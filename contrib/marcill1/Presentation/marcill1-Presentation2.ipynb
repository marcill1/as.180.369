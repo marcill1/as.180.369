{
 "cells": [
  {
   "cell_type": "markdown",
   "id": "af3612ab-d158-40d0-a3a5-def620fcdaca",
   "metadata": {
    "editable": true,
    "slideshow": {
     "slide_type": "slide"
    },
    "tags": []
   },
   "source": [
    "# Investigating the Effects of Political Parties on US Inequality\n",
    "## Matt Arcillo\n",
    "## Johns Hopkins University\n"
   ]
  },
  {
   "cell_type": "markdown",
   "id": "5ab2bba8-4d3c-4fbc-a357-67a6d591432d",
   "metadata": {
    "editable": true,
    "slideshow": {
     "slide_type": "slide"
    },
    "tags": []
   },
   "source": [
    "# Introduction"
   ]
  },
  {
   "cell_type": "markdown",
   "id": "bf9acb7a-26fc-4019-8bc9-fd7479a3d6c4",
   "metadata": {
    "editable": true,
    "slideshow": {
     "slide_type": "slide"
    },
    "tags": []
   },
   "source": [
    "## Income Inequality in the United States"
   ]
  },
  {
   "cell_type": "markdown",
   "id": "978e027e-60ea-4dd1-88ef-b126612ba90f",
   "metadata": {
    "editable": true,
    "slideshow": {
     "slide_type": "fragment"
    },
    "tags": []
   },
   "source": [
    "- The United State has the highest levels of inequality among the developed nations"
   ]
  },
  {
   "cell_type": "markdown",
   "id": "f39d141c-2a4e-47a3-a68b-2e4840f42aba",
   "metadata": {
    "editable": true,
    "slideshow": {
     "slide_type": "slide"
    },
    "tags": []
   },
   "source": [
    "![](GinisCompared.jpg)"
   ]
  },
  {
   "cell_type": "markdown",
   "id": "f7acee23-3ffe-45b4-8c41-7c5160216d10",
   "metadata": {
    "editable": true,
    "slideshow": {
     "slide_type": "slide"
    },
    "tags": []
   },
   "source": [
    "## The Gini Coefficient"
   ]
  },
  {
   "cell_type": "markdown",
   "id": "9db008c9-c5bd-4872-a0b5-44494ef15e2c",
   "metadata": {
    "editable": true,
    "slideshow": {
     "slide_type": "fragment"
    },
    "tags": []
   },
   "source": [
    "- Index of inequality"
   ]
  },
  {
   "cell_type": "markdown",
   "id": "19b4e0bd-cade-4144-a1d2-cd677532d9e1",
   "metadata": {
    "editable": true,
    "slideshow": {
     "slide_type": "slide"
    },
    "tags": []
   },
   "source": [
    "## Political Parties and Policy"
   ]
  },
  {
   "cell_type": "markdown",
   "id": "df35eea8-e32a-4a1b-80cf-fb64219c4bb2",
   "metadata": {
    "editable": true,
    "slideshow": {
     "slide_type": "fragment"
    },
    "tags": []
   },
   "source": [
    "- Republicans vs Democrats"
   ]
  },
  {
   "cell_type": "markdown",
   "id": "4c076b98-2d3d-4937-a80b-9d8b5314e405",
   "metadata": {
    "editable": true,
    "slideshow": {
     "slide_type": "slide"
    },
    "tags": []
   },
   "source": [
    "## Goal of Paper"
   ]
  },
  {
   "cell_type": "markdown",
   "id": "bf775233-f1e2-4d7b-8627-59c1ef72042d",
   "metadata": {
    "editable": true,
    "slideshow": {
     "slide_type": "fragment"
    },
    "tags": []
   },
   "source": [
    "- Find relationship between inequality and political parties"
   ]
  },
  {
   "cell_type": "markdown",
   "id": "034fe4e4-ce68-4c1e-b688-60d33bdc7173",
   "metadata": {
    "editable": true,
    "slideshow": {
     "slide_type": "slide"
    },
    "tags": []
   },
   "source": [
    "# Literature Review"
   ]
  },
  {
   "cell_type": "markdown",
   "id": "cc7e3d9c-e45a-4f69-a5fd-11ea3625c226",
   "metadata": {
    "editable": true,
    "slideshow": {
     "slide_type": "slide"
    },
    "tags": []
   },
   "source": [
    "## Inequality vs Political Parties: The Gaps"
   ]
  },
  {
   "cell_type": "markdown",
   "id": "fb9fbedc-b89b-4ff6-9900-d45d8536882e",
   "metadata": {
    "editable": true,
    "slideshow": {
     "slide_type": "fragment"
    },
    "tags": []
   },
   "source": [
    "- Understudied relationship"
   ]
  },
  {
   "cell_type": "markdown",
   "id": "781949e9-bbb2-4e1c-9cad-a9d48c91cb2d",
   "metadata": {
    "editable": true,
    "slideshow": {
     "slide_type": "slide"
    },
    "tags": []
   },
   "source": [
    "## Policies vs Inequality"
   ]
  },
  {
   "cell_type": "markdown",
   "id": "34f1ed69-a8d4-4670-bb30-809c3a7f8468",
   "metadata": {
    "editable": true,
    "slideshow": {
     "slide_type": ""
    },
    "tags": []
   },
   "source": [
    "- Minimum wage\n",
    "- EITC\n",
    "- Slowing economic growth\n",
    "- AMT"
   ]
  },
  {
   "cell_type": "markdown",
   "id": "8c93ff69-fe67-44d8-8a83-cb18439448b0",
   "metadata": {
    "editable": true,
    "slideshow": {
     "slide_type": "slide"
    },
    "tags": []
   },
   "source": [
    "## Politics vs Policies"
   ]
  },
  {
   "cell_type": "markdown",
   "id": "9d04998c-ad27-4c65-aa9a-ce9719c509ce",
   "metadata": {
    "editable": true,
    "slideshow": {
     "slide_type": "fragment"
    },
    "tags": []
   },
   "source": [
    "- Republican no like minimum wage\n",
    "- Bridging the gap/"
   ]
  },
  {
   "cell_type": "markdown",
   "id": "ec704c7b-976f-4a8d-a911-c5d2da70332f",
   "metadata": {
    "editable": true,
    "slideshow": {
     "slide_type": "slide"
    },
    "tags": []
   },
   "source": [
    "## Pandemics and Recessions"
   ]
  },
  {
   "cell_type": "markdown",
   "id": "f2550ae3-b787-4fe6-8443-01dfe16a952a",
   "metadata": {
    "editable": true,
    "slideshow": {
     "slide_type": "fragment"
    },
    "tags": []
   },
   "source": [
    "- Covid-19\n",
    "- Great Recession 07 08"
   ]
  },
  {
   "cell_type": "markdown",
   "id": "7eea11af-8e08-4f0f-8ca9-1e09b0573887",
   "metadata": {
    "editable": true,
    "slideshow": {
     "slide_type": "fragment"
    },
    "tags": []
   },
   "source": [
    "- Covid-19\n",
    "- Great Recession 07 08"
   ]
  },
  {
   "cell_type": "markdown",
   "id": "a20e0ff0-1499-4e3a-babc-d2265ef4de22",
   "metadata": {
    "editable": true,
    "slideshow": {
     "slide_type": "slide"
    },
    "tags": []
   },
   "source": [
    "# Methodology"
   ]
  },
  {
   "cell_type": "markdown",
   "id": "f5159cdf-deb4-4681-a2b4-bc92ce8b4e3c",
   "metadata": {
    "editable": true,
    "slideshow": {
     "slide_type": "slide"
    },
    "tags": []
   },
   "source": [
    "## Sourcing Data"
   ]
  },
  {
   "cell_type": "markdown",
   "id": "bba8d1ce-6eb3-40b5-9aad-236b76af65ca",
   "metadata": {
    "editable": true,
    "slideshow": {
     "slide_type": "fragment"
    },
    "tags": []
   },
   "source": [
    "- US Census Bureua\n",
    "- Gini coefficients using equivalence adjusted income\n",
    "- Converting to annual change in Gini coefficient"
   ]
  },
  {
   "cell_type": "markdown",
   "id": "e9bcf1ea-a404-4ffb-8514-2d55d497e8f4",
   "metadata": {
    "editable": true,
    "slideshow": {
     "slide_type": "fragment"
    },
    "tags": []
   },
   "source": [
    "- Political Party data from senate website\n",
    "- Using Binary Data"
   ]
  },
  {
   "cell_type": "markdown",
   "id": "db6108a2-d75c-4df6-b4d4-7b7197a66616",
   "metadata": {
    "editable": true,
    "slideshow": {
     "slide_type": "slide"
    },
    "tags": []
   },
   "source": [
    "## Analyzing Data"
   ]
  },
  {
   "cell_type": "markdown",
   "id": "1d24babe-9257-4089-a275-dcb7e7460f33",
   "metadata": {
    "editable": true,
    "slideshow": {
     "slide_type": "fragment"
    },
    "tags": []
   },
   "source": [
    "- Four Regressions"
   ]
  },
  {
   "cell_type": "markdown",
   "id": "51b692e3-ede7-4c4c-aadf-0afcd5830543",
   "metadata": {
    "editable": true,
    "slideshow": {
     "slide_type": "fragment"
    },
    "tags": []
   },
   "source": [
    "1. Relationship between annual Gini coefficient changes and presence of Republican Party unity in Congress."
   ]
  },
  {
   "cell_type": "markdown",
   "id": "065c79ac-5c89-4466-b198-f060ec66d3ac",
   "metadata": {
    "editable": true,
    "slideshow": {
     "slide_type": "fragment"
    },
    "tags": []
   },
   "source": [
    "2. Relationship between annual Gini coefficient changes and presence of Democratic Party unity in Congress."
   ]
  },
  {
   "cell_type": "markdown",
   "id": "416bd46b-107f-44a7-8734-33d0019a1052",
   "metadata": {
    "editable": true,
    "slideshow": {
     "slide_type": "fragment"
    },
    "tags": []
   },
   "source": [
    "3. Relationship between annual Gini coefficient changes and the political party of the President."
   ]
  },
  {
   "cell_type": "markdown",
   "id": "e39351bd-5ceb-4ca8-9491-072a3a9e8a8f",
   "metadata": {
    "editable": true,
    "slideshow": {
     "slide_type": "fragment"
    },
    "tags": []
   },
   "source": [
    "4. Relationship between annual Gini coefficient and presence of trifectas."
   ]
  },
  {
   "cell_type": "markdown",
   "id": "5e97b6ab-a367-4272-a596-c22e88911ee5",
   "metadata": {
    "editable": true,
    "slideshow": {
     "slide_type": "fragment"
    },
    "tags": []
   },
   "source": [
    "- Binary Regressions"
   ]
  },
  {
   "cell_type": "markdown",
   "id": "db681a35-d4eb-47b6-b21e-5283df310d45",
   "metadata": {
    "editable": true,
    "slideshow": {
     "slide_type": "slide"
    },
    "tags": []
   },
   "source": [
    "## H<sub>0</sub> ‎ "
   ]
  },
  {
   "cell_type": "markdown",
   "id": "12aa6349-14b8-45a6-bba9-a5cc77b95146",
   "metadata": {
    "editable": true,
    "slideshow": {
     "slide_type": "fragment"
    },
    "tags": []
   },
   "source": [
    "Regressions 1-3: There is no relationship between political parties and annual Gini coefficient change."
   ]
  },
  {
   "cell_type": "markdown",
   "id": "11a1dff4-36cb-484f-bbfc-b5bcf442798a",
   "metadata": {
    "editable": true,
    "slideshow": {
     "slide_type": "fragment"
    },
    "tags": []
   },
   "source": [
    "Regression 4: There is no relationship between presence of government trifectas and annual Gini coefficient change."
   ]
  },
  {
   "cell_type": "markdown",
   "id": "300792eb-19a0-4146-af95-1664d12b12ee",
   "metadata": {
    "editable": true,
    "slideshow": {
     "slide_type": "fragment"
    },
    "tags": []
   },
   "source": [
    "## H<sub>1</sub>‎ "
   ]
  },
  {
   "cell_type": "markdown",
   "id": "da43879d-35ed-457a-9011-9374c964dfce",
   "metadata": {
    "editable": true,
    "slideshow": {
     "slide_type": "fragment"
    },
    "tags": []
   },
   "source": [
    "There is a relationship between political parties (1-3)/presence of trifectas (4) and annual Gini coefficient change (|T| > 1.96)."
   ]
  },
  {
   "cell_type": "markdown",
   "id": "608014e7-6aa0-402c-aa50-ded728da6486",
   "metadata": {
    "editable": true,
    "slideshow": {
     "slide_type": "slide"
    },
    "tags": []
   },
   "source": [
    "# Results"
   ]
  },
  {
   "cell_type": "markdown",
   "id": "5b8c470c-7433-4b34-b1ca-8261eeac2b62",
   "metadata": {
    "editable": true,
    "slideshow": {
     "slide_type": "fragment"
    },
    "tags": []
   },
   "source": [
    "**Table 1:** Results for Regression 1\n",
    "\n",
    "| Coefficient Name | Coefficient Value | T-value |\n",
    "| ---------------- | ------------------| ------- | \n",
    "| Intercept        |   0.0021        |  2.755    | \n",
    "| Republican Congress |  -0.0011     |   -0.689  |  "
   ]
  },
  {
   "cell_type": "markdown",
   "id": "28f6be7a-a901-4b51-a02c-8711dbb57652",
   "metadata": {
    "editable": true,
    "slideshow": {
     "slide_type": "fragment"
    },
    "tags": []
   },
   "source": [
    "**Table 2:** Results for Regression 2\n",
    "\n",
    "| Coefficient Name | Coefficient Value | T-value |\n",
    "| ---------------- | ------------------| ------- | \n",
    "| Intercept        |   0.0020        |  2.165    | \n",
    "| Democratic Congress |  -0.0003     |   -0.244  |  "
   ]
  },
  {
   "cell_type": "markdown",
   "id": "ff857f05-7363-4078-90dc-ff9b112153b8",
   "metadata": {
    "editable": true,
    "slideshow": {
     "slide_type": "slide"
    },
    "tags": []
   },
   "source": [
    "**Table 3:** Results for Regression 3\n",
    "\n",
    "| Coefficient Name | Coefficient Value | T-value |\n",
    "| ---------------- | ------------------| ------- | \n",
    "| Intercept        |   0.0016          |   1.574   | \n",
    "| Political Party of President |  0.0004           |  0.320    |  "
   ]
  },
  {
   "cell_type": "markdown",
   "id": "9f7bfe80-c556-44b2-bb8a-f510080ca68e",
   "metadata": {
    "editable": true,
    "slideshow": {
     "slide_type": "fragment"
    },
    "tags": []
   },
   "source": [
    "**Table 4:** Results for Regression 4\n",
    "\n",
    "| Coefficient Name | Coefficient Value | T-value |\n",
    "| ---------------- | ------------------| ------- | \n",
    "| Intercept        |   0.0019          |  2.165  | \n",
    "| Trifecta         |  -0.0001          |   -0.107|  "
   ]
  },
  {
   "cell_type": "markdown",
   "id": "433acb6c-a7e9-44ba-8345-1b194ebf845f",
   "metadata": {
    "editable": true,
    "slideshow": {
     "slide_type": "slide"
    },
    "tags": []
   },
   "source": [
    "# Discussion"
   ]
  },
  {
   "cell_type": "markdown",
   "id": "0c575e82-1bd4-4f25-968e-751f94a9833a",
   "metadata": {
    "editable": true,
    "slideshow": {
     "slide_type": "slide"
    },
    "tags": []
   },
   "source": [
    "## Limitations of Results"
   ]
  },
  {
   "cell_type": "markdown",
   "id": "bf867bac-84de-40f0-920b-3496a273959e",
   "metadata": {
    "editable": true,
    "slideshow": {
     "slide_type": "slide"
    },
    "tags": []
   },
   "source": [
    "## Political Parties vs Inequality: Concluding Thoughts"
   ]
  },
  {
   "cell_type": "markdown",
   "id": "28985365-4a11-4b22-9840-9ac9ac13d9eb",
   "metadata": {
    "editable": true,
    "slideshow": {
     "slide_type": "slide"
    },
    "tags": []
   },
   "source": [
    "## Future Research"
   ]
  },
  {
   "cell_type": "markdown",
   "id": "77929830-6360-44d6-a4d5-ca7c8e4fbca6",
   "metadata": {
    "editable": true,
    "slideshow": {
     "slide_type": "slide"
    },
    "tags": []
   },
   "source": [
    "## Income Inequality in the United States is increasing"
   ]
  },
  {
   "cell_type": "markdown",
   "id": "2598545c-e122-498d-8349-19bd0121be8f",
   "metadata": {
    "editable": true,
    "slideshow": {
     "slide_type": "slide"
    },
    "tags": []
   },
   "source": [
    "<center>![Gini calculated using Adjusted Income in the United States](GiniGraph3.jpg)</center>\n",
    "\n",
    "Text"
   ]
  },
  {
   "cell_type": "code",
   "execution_count": null,
   "id": "a8d6f5a1-fe69-43f4-947f-e1e836ea83a2",
   "metadata": {
    "editable": true,
    "slideshow": {
     "slide_type": ""
    },
    "tags": []
   },
   "outputs": [],
   "source": []
  },
  {
   "cell_type": "code",
   "execution_count": null,
   "id": "bfc20fc3-10f7-4553-8d97-8a66f8405dd5",
   "metadata": {
    "editable": true,
    "slideshow": {
     "slide_type": ""
    },
    "tags": []
   },
   "outputs": [],
   "source": []
  }
 ],
 "metadata": {
  "kernelspec": {
   "display_name": "Python 3 (ipykernel)",
   "language": "python",
   "name": "python3"
  },
  "language_info": {
   "codemirror_mode": {
    "name": "ipython",
    "version": 3
   },
   "file_extension": ".py",
   "mimetype": "text/x-python",
   "name": "python",
   "nbconvert_exporter": "python",
   "pygments_lexer": "ipython3",
   "version": "3.10.10"
  }
 },
 "nbformat": 4,
 "nbformat_minor": 5
}
