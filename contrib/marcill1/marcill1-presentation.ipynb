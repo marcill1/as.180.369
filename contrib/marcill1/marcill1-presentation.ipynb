{
 "cells": [
  {
   "cell_type": "markdown",
   "id": "562162cd-3cda-420c-918e-1041fedec380",
   "metadata": {
    "editable": true,
    "slideshow": {
     "slide_type": "slide"
    },
    "tags": []
   },
   "source": [
    "# Presentation\n",
    "\n"
   ]
  },
  {
   "cell_type": "markdown",
   "id": "98cbfaa6-0c6b-4ca6-b43d-2d15539e5196",
   "metadata": {
    "editable": true,
    "slideshow": {
     "slide_type": "slide"
    },
    "tags": []
   },
   "source": [
    "Outline\n",
    "- Introduction\n",
    "    - Inequality: Has been increasing since 1967. Rapid increase unique to United States.\n",
    "    - ![Figure 1: Gini over time](images/GiniGraph3.jpg)\n",
    "    - Inequality: measurement (gini)\n",
    "    - Policy tools: \n",
    "- Literature Review\r",
    "- \n",
    "Inequalit\n",
    "- \r",
    "re research\r\n"
   ]
  },
  {
   "cell_type": "markdown",
   "id": "866115e0-a1ca-48cb-9380-b0ead4b283b2",
   "metadata": {
    "editable": true,
    "slideshow": {
     "slide_type": "slide"
    },
    "tags": []
   },
   "source": [
    "Macroeconomic explanation-s\n",
    "Political explanation- s?\n",
    "Polic- ies\n",
    "Minimum - Wage- \n",
    "AMT- \n",
    "EITC\n",
    "Bridging - the gap\n",
    "Met- hodology\n",
    "4 re- gression- s\n",
    "Results\n",
    "Regressi- on analysis\n",
    "Discussion and future research\n"
   ]
  }
 ],
 "metadata": {
  "kernelspec": {
   "display_name": "Python 3 (ipykernel)",
   "language": "python",
   "name": "python3"
  },
  "language_info": {
   "codemirror_mode": {
    "name": "ipython",
    "version": 3
   },
   "file_extension": ".py",
   "mimetype": "text/x-python",
   "name": "python",
   "nbconvert_exporter": "python",
   "pygments_lexer": "ipython3",
   "version": "3.10.10"
  }
 },
 "nbformat": 4,
 "nbformat_minor": 5
}
