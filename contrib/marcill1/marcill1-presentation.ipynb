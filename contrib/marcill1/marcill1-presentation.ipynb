{
 "cells": [
  {
   "cell_type": "markdown",
   "id": "562162cd-3cda-420c-918e-1041fedec380",
   "metadata": {
    "editable": true,
    "slideshow": {
     "slide_type": "slide"
    },
    "tags": []
   },
   "source": [
    "# Presentation\n",
    "\n",
    "- content\n",
    "- content\n",
    "- conent\n",
    "- conent"
   ]
  },
  {
   "cell_type": "markdown",
   "id": "98cbfaa6-0c6b-4ca6-b43d-2d15539e5196",
   "metadata": {
    "editable": true,
    "slideshow": {
     "slide_type": ""
    },
    "tags": []
   },
   "source": [
    "Outline\n",
    "- Introduction\n",
    "    - Inequality: the problem \n",
    "    - Inequality: measurement (gini)\n",
    "    - Policy tools\n",
    "- Lit Summary\n",
    "- Methodology\n",
    "    - Regression\n",
    "- Data/Results\n",
    "- Discussion"
   ]
  }
 ],
 "metadata": {
  "kernelspec": {
   "display_name": "Python 3 (ipykernel)",
   "language": "python",
   "name": "python3"
  },
  "language_info": {
   "codemirror_mode": {
    "name": "ipython",
    "version": 3
   },
   "file_extension": ".py",
   "mimetype": "text/x-python",
   "name": "python",
   "nbconvert_exporter": "python",
   "pygments_lexer": "ipython3",
   "version": "3.10.10"
  }
 },
 "nbformat": 4,
 "nbformat_minor": 5
}
