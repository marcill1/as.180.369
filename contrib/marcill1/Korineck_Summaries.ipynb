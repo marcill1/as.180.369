{
 "cells": [
  {
   "cell_type": "markdown",
   "id": "bce82e1b-fbe1-41c1-8fc7-0c84f52c7187",
   "metadata": {},
   "source": [
    "*Paper Improvements*\n",
    "\n",
    "    One way that can help me improve my writing is using chatGPT to help me connect ideas into a coherent piece of writing. Oftentimes, before I begin writing, I create a list of ideas I want to include in my paper, but I struggle to connect these ideas together. Korineck demonstrated how chatGPT can write a paragraph that helps integrates all main points listed out, which can help give me ideas on how to structure my own writing. Another idea from Korineck is using chatGPT to debug code. While I already use chatGPT to help me generate code, it never came to thought that I could also use it to help address errors in code I have made. Lastly, I can also use chatGPT to explain the criticisms it gives me"
   ]
  }
 ],
 "metadata": {
  "kernelspec": {
   "display_name": "Python 3 (ipykernel)",
   "language": "python",
   "name": "python3"
  },
  "language_info": {
   "codemirror_mode": {
    "name": "ipython",
    "version": 3
   },
   "file_extension": ".py",
   "mimetype": "text/x-python",
   "name": "python",
   "nbconvert_exporter": "python",
   "pygments_lexer": "ipython3",
   "version": "3.10.10"
  }
 },
 "nbformat": 4,
 "nbformat_minor": 5
}
