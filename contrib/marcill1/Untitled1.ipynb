{
 "cells": [
  {
   "cell_type": "markdown",
   "id": "562162cd-3cda-420c-918e-1041fedec380",
   "metadata": {
    "editable": true,
    "slideshow": {
     "slide_type": "slide"
    },
    "tags": []
   },
   "source": [
    "# Presentation\n",
    "\n",
    "- content\n",
    "- content\n",
    "- conent\n",
    "- conent"
   ]
  },
  {
   "cell_type": "code",
   "execution_count": null,
   "id": "da8404fb-ed18-4238-86e6-dfb23b81061f",
   "metadata": {
    "editable": true,
    "slideshow": {
     "slide_type": ""
    },
    "tags": []
   },
   "outputs": [],
   "source": []
  }
 ],
 "metadata": {
  "kernelspec": {
   "display_name": "Python 3 (ipykernel)",
   "language": "python",
   "name": "python3"
  },
  "language_info": {
   "codemirror_mode": {
    "name": "ipython",
    "version": 3
   },
   "file_extension": ".py",
   "mimetype": "text/x-python",
   "name": "python",
   "nbconvert_exporter": "python",
   "pygments_lexer": "ipython3",
   "version": "3.10.10"
  }
 },
 "nbformat": 4,
 "nbformat_minor": 5
}
