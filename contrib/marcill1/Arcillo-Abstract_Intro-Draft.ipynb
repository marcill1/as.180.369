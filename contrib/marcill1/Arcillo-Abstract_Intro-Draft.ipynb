{
 "cells": [
  {
   "cell_type": "markdown",
   "id": "b7aa3903-2c94-446c-90f6-8c311a7d9961",
   "metadata": {},
   "source": [
    "*Paper Draft*"
   ]
  },
  {
   "cell_type": "markdown",
   "id": "9fb4745c-2db8-41ed-9db0-580aae9a5d84",
   "metadata": {},
   "source": [
    "**Abstract**\n",
    "\n",
    "- Inequality is increasing, trends\n",
    "- Partisan divide regarding economic inequality in United States\n",
    "- Metric for inequality\n",
    "- Thesis: Republican Congress creates more inequality? \n",
    "\n",
    "    Inequality in the United States has increased significantly since the 1970s (Rodriguez). In the United States, policies regarding income equality has become a partisan issue. Republicans often have strong ties with businesses, which often promotes policies in favor of lower minimum wages. In contrast, Democrats often work with labor unions to help promote policies in favor of increasing the minimum wage. Using the GINI coefficient, which measures the level of inequality within a given country, we can determine how strong of a role parties in Congress and the party of the President play in the increasing wealth inequality of the United States. If a relationship is present, it can help us understand why inequality still continues to rise. We will investigate if either Congress or the Executive Branch, depending on party affiliation, has more of an impact on the Gini index, while also examining whether significant changes in the Gini coefficient are present during a government trifecta, which is when a single party controls both chambers of Congress and the Presidency.\n"
   ]
  },
  {
   "cell_type": "markdown",
   "id": "370443a7-5320-4882-8e60-d9832f2a224f",
   "metadata": {},
   "source": [
    "**Introduction**\n",
    "\n",
    "- Explain how inequality is measured\n",
    "    -GINI index\n",
    "- Congress Parties\n",
    "- Minimum Wage\n",
    "- Tax Cuts\n",
    "- Growing wealth gap in United States\n",
    "\n",
    "\n",
    "    Inequality in the United States has been a growing issue since 1980. While the United States remains to be one of the wealthiest nations in the world, the United States has one of the highest levels of inequality among developed nations, and the issue seems to only be worsening. Inequality comes with several consequences for a country, and can be damaging economically, socially, and politically. These problems work in tandem, and while it is possible to examine the level of inequality solely through economics metrics, we will also need to examine the contributions the government has made to address inequality, whether they are positive or negative. Additionally, these economic trends and government policies are both influenced by society and in return influence society, often manifested in the form of political parties, thus we must utilize all three to help us understand how inequality in the United States has reached this height and why it continues to worsen.\n",
    "  \n",
    "   The Gini coefficient is a value that measures the level of income distribution and is often used as the standard metric for tracking economic inequality within a country. Gini coefficients range from 0-1; 0 being the lowest score possible, indicating no income inequality, and 1 being the highest possible level of income inequality. Since 1980, the Gini coefficient of the United States has steadily risen from 0.347 to as high as 0.415 in 2019. In contrast, wealthy Western nations, such as most of Europe and Canada, have significantly lower Gini coefficients than the United States. Many often attribute this trend to the partisan nature of addressing income inequality in the United States.\n",
    "  \n",
    "    A key drawback to using publicly available Gini coefficients would be the various ways inequality can manifest. Gini coefficients can often be blind to stored wealth or retired individuals. I will be adressing this drawback by using Gini coefficients of similar households, which will remove any major statistical flaws that could skew my findings.\n",
    "  \n",
    "    A key example of the United States federal government failing to address inequality would be the federal minimum wage. The minimum wage in the United States has been raised only three times since 1990. However, policies addressing alternative minim tax (AMT) have allowed it to adjust to inflation, which benefits those with higher incomes. No federal policies have been passed to automatically adjust the federal minimum wage to inflation (Koger). Not all economists agree that increasing the minimum wage helps address inequality. Another policy we can look into would be earned income tax credit (EITC). This system assists low to middle income workers to receive tax refunds. Examining how policies passed that either expand or reduce EITC qualifications can also help explain how the Gini coefficient behaves under different periods.\n",
    "\n",
    "    Political parties are manifestations of social sentiments playing a role in our government. In general, Democratic members of Congress tend to vote in favour of policies supporting an increase in minimum wage (Bloch). It would then be reasonable to believe that during a Democratic government trifecta, where a single party controls The House of Representatives, the Senate, and the Presidency, more policies addressing inequality would be passed, since it would be less likely for laws to be vetoed by either branch of the government. However, in spite this widely-held belief, inequality only continues to worsen in the United States even though there have been several instances where Democrats held control over the major federal government institutions. \n",
    "\n",
    "  We expect the Gini coefficient to increase rapidly during periods of a Republican trifecta, and it is expected for the opposite outcome to occur during a Democratic trifecta. We will then examine if any policies during these periods addressing inequality, such as policies aimed towards increasing minimum wage or modifying the AMT system, were passed or blocked to help explain for any trends we discover. One point of interest is during the 1980s, which is when the Gini coefficient first began to steadily rise. Since 1980, there have been five instances of a government trifecta, three of which were led by Democrats and two by Republicans. During these periods of government trifecta, we will explore whether the Gini coefficient of the United States changed significantly and in which direction this change occurred. During most of the 1980s, Democrats generally had more control over Congress. However, during this period, President Reagan also held office. Lastly, another period of interest to examine is the COVID-19 pandemic. During the pandemic, many countries reported increasing income inequality. We will examine this period to determine how significantly the Gini coefficient of the United States changed, and whether the partisanship of Congress and the Presidency played a major role in the policies passed during this period. These results could help us better understand how policy has influenced inequality in the United States, and hopefully allow us to reverse the trend of growing inequality in the United States that shows no signs of slowing down.\n",
    "\n",
    "  -boosting earned income tax credit > minimum wage\n",
    "      -supplemt to their wage\n",
    "      -history of earned income tax credit (introduced by Reagan)\n",
    "      -increased more under GOP or DNC\n",
    "  -amt's have had little effect on inequality, but has reduced loopholes\n",
    "  -search through papers for Gini data\n",
    "      -census bureua"
   ]
  },
  {
   "cell_type": "markdown",
   "id": "3fd8d53b-ea03-47b6-9191-247650d76183",
   "metadata": {},
   "source": [
    "**Sources to Use**\n",
    "\n",
    "Acemoglu, Daron. 2002. “Technical Change, Inequality, and the Labor Market.” Journal of Economic Literature 40 (1): 7–72.\n",
    "\n",
    "Alvaredo, Facundo, Anthony B. Atkinson, Thomas Piketty, and Emmanuel Saez. 2013. “The Top 1 Percent in International and Historical Perspective.” The Journal of Economic Perspectives: A Journal of the American Economic Association 27 (3): 3–20.\n",
    "\n",
    "Berkowitz, Daniel, and George A. Krause. 2020. “How Bureaucratic Leadership Shapes Policy Outcomes: Partisan Politics and Affluent Citizens’ Incomes in the American States.” Journal of Public Policy 40 (2): 305–28.\n",
    "\n",
    "Blackwell, Calvin, Rachel Graefe-Anderson, Frank L. Hefner, and Dyanne Vaught. 2015. “Wealth Inequality and CEO Compensation.” https://doi.org/10.2139/ssrn.2599740.\n",
    "\n",
    "Chen, Tiejun, Giray Gozgor, and Chun Kwong Koo. 2021. “Pandemics and Income Inequality: What Do the Data Tell for the Globalization Era?” Frontiers in Public Health 9 (May): 674729.\n",
    "\n",
    "Crawford, Constance J., and Corinne L. Crawford. 2007. “The Inequity In The Current Tax System: Does The Alternative Minimum Tax Create Additional Problems In The System?” Journal of Business & Economics Research (JBER) 5 (2). https://doi.org/10.19030/jber.v5i2.2517.\n",
    "\n",
    "Dittmann, Ingolf, Maurizio Montone, and Yuhao Zhu. 2023. “Wage Gap and Stock Returns: Do Investors Dislike Pay Inequality?” Journal of Corporate Finance 78 (February): 102322.\n",
    "\n",
    "Engelhardt, Gary V., and Patrick J. Purcell. 2021. “The Minimum Wage and Annual Earnings Inequality.” Economics Letters 207 (October): 110001.\n",
    "\n",
    "Faricy, Christopher G. 2015. Welfare for the Wealthy: Parties, Social Spending, and Inequality in the United States. Cambridge University Press.\n",
    "\n",
    "Gabaix, Xavier, and Augustin Landier. 2008. “Why Has CEO Pay Increased So Much?*.” The Quarterly Journal of Economics 123 (1): 49–100.\n",
    "\n",
    "Giordono, Leanne S., Michael D. Jones, and David W. Rothwell. 2019. “Social Policy Perspectives on Economic Inequality in Wealthy Countries.” Policy Studies Journal: The Journal of the Policy Studies Organization 47 (S1): S96–118.\n",
    "\n",
    "Graycar, Adam, and Olivia Monaghan. 2015. “Rich Country Corruption.” International Journal of Public Administration 38 (8): 586–95.\n",
    "\n",
    "Hacker, Jacob S., and Paul Pierson. 2011. “Winner-Take-All Politics: How Washington Made the Rich Richer--and Turned Its Back on the Middle Class.” Choice  48 (11): 48–6579 – 48–6579.\n",
    "\n",
    "Khatiwada, Sameer. 2010. “Did the Financial Sector Profit at the Expense of the Rest of the Economy? Evidence from the United States.”\n",
    "\n",
    "Koger, Gregory, and Stefanie Rodriguez. 2021. “Economic Inequality and Congressional Action in the United States: A Comparison of the Minimum Wage and Alternative Minimum Tax.” Poverty & Public Policy 13 (3): 273–92.\n",
    "\n",
    "Lenger, Alexander, Stephan Wolf, and Nils Goldschmidt. 2021. “Choosing Inequality: How Economic Security Fosters Competitive Regimes.” Journal of Economic Inequality 19 (2): 315–46.\n",
    "\n",
    "Manning, Alan, and Christopher L. Smith. 2010. “The Contribution of the Minimum Wage to U.S. Wage Inequality Over Three Decades: A Reassessment.” https://doi.org/10.2139/ssrn.1960064.\n",
    "\n",
    "Nolan, Brian, Matteo G. Richiardi, and Luis Valenzuela. 2019. “The Drivers of Income Inequality in Rich Countries.” Journal of Economic Surveys 33 (4): 1285–1324.\n",
    "\n",
    "Piketty, Thomas. 2014. Capital in the Twenty-First Century. Harvard University Press.\n",
    "\n",
    "Piketty, Thomas, and Emmanuel Saez. 2003. “Income Inequality in the United States, 1913–1998*.” The Quarterly Journal of Economics 118 (1): 1–41.\n",
    "\n",
    "———. 2014. “Inequality in the Long Run.” Science 344 (6186): 838–43.\n",
    "\n",
    "Piketty, Thomas, Emmanuel Saez, and Stefanie Stantcheva. 2014. “Optimal Taxation of Top Labor Incomes: A Tale of Three Elasticities.” American Economic Journal: Economic Policy 6 (1): 230–71.\n",
    "\n",
    "Sayed, Adham, and Bin Peng. 2021. “Pandemics and Income Inequality: A Historical Review.” SN Business & Economics 1 (4): 54.\n",
    "\n",
    "Song, Jae, David J. Price, Fatih Guvenen, Nicholas Bloom, and Till von Wachter. 2018. “Firming Up Inequality*.” The Quarterly Journal of Economics 134 (1): 1–50.\n"
   ]
  },
  {
   "cell_type": "code",
   "execution_count": null,
   "id": "5cf4c606-4dfb-4e5b-a322-49edb5fcde44",
   "metadata": {},
   "outputs": [],
   "source": []
  }
 ],
 "metadata": {
  "kernelspec": {
   "display_name": "Python 3 (ipykernel)",
   "language": "python",
   "name": "python3"
  },
  "language_info": {
   "codemirror_mode": {
    "name": "ipython",
    "version": 3
   },
   "file_extension": ".py",
   "mimetype": "text/x-python",
   "name": "python",
   "nbconvert_exporter": "python",
   "pygments_lexer": "ipython3",
   "version": "3.10.10"
  }
 },
 "nbformat": 4,
 "nbformat_minor": 5
}
