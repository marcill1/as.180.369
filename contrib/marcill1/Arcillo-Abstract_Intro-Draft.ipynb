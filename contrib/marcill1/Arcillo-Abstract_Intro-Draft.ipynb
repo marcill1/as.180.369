{
 "cells": [
  {
   "cell_type": "markdown",
   "id": "b7aa3903-2c94-446c-90f6-8c311a7d9961",
   "metadata": {
    "editable": true,
    "slideshow": {
     "slide_type": ""
    },
    "tags": []
   },
   "source": [
    "*Paper Draft*"
   ]
  },
  {
   "cell_type": "markdown",
   "id": "9fb4745c-2db8-41ed-9db0-580aae9a5d84",
   "metadata": {},
   "source": [
    "**Abstract**\n",
    "\n",
    "- Inequality is increasing, trends\n",
    "- Partisan divide regarding economic inequality in United States\n",
    "- Metric for inequality\n",
    "- Thesis: Republican Congress creates more inequality? \n",
    "\n",
    "    Inequality in the United States has increased significantly since the 1970s (Rodriguez). In the United States, policies regarding income equality has become a partisan issue. Republicans often have strong ties with businesses, which often promotes policies in favor of lower minimum wages. In contrast, Democrats often work with labor unions to help promote policies in favor of increasing the minimum wage. Using the GINI coefficient, which measures the level of inequality within a given country, we can determine how strong of a role parties in Congress and the party of the President play in the increasing wealth inequality of the United States. If a relationship is present, it can help us understand why inequality still continues to rise. We will investigate if either Congress or the Executive Branch, depending on party affiliation, has more of an impact on the Gini index, while also examining whether significant changes in the Gini coefficient are present during a government trifecta, which is when a single party controls both chambers of Congress and the Presidency.\n"
   ]
  },
  {
   "cell_type": "markdown",
   "id": "370443a7-5320-4882-8e60-d9832f2a224f",
   "metadata": {},
   "source": [
    "**Introduction**\n",
    "\n",
    "- Explain how inequality is measured\n",
    "    -GINI index\n",
    "- Congress Parties\n",
    "- Minimum Wage\n",
    "- Tax Cuts\n",
    "- Growing wealth gap in United States\n",
    "\n",
    "\n",
    "    Inequality in the United States has been a growing issue since 1980. While the United States remains one of the wealthiest nations in the world, the United States has one of the highest levels of inequality among developed nations, and the issue seems to be worsening. Inequality comes with several consequences for a country, and can be damaging economically, socially, and politically. These problems work in tandem, and while it is possible to examine the level of inequality solely through economics metrics, we will also need to examine the contributions the government has made to address inequality, and whether these contributions are positive or negative. Additionally, these economic trends and government policies are both influenced by society, and in return policies passed by the government also influence society. The relationship between society and government often manifested in the form of political parties. We must utilize all three to help us understand how inequality in the United States has reached this height and why it continues to worsen.\n",
    "  \n",
    "   The Gini coefficient is a value that measures the level of income distribution and is often used as the standard metric for tracking economic inequality within a country. Gini coefficients range from 0-1; 0 being the lowest score possible, indicating no income inequality, and 1 being the highest possible level of income inequality. Since 1980, the Gini coefficient of the United States has steadily risen from 0.347 to as high as 0.415 in 2019. In contrast, wealthy Western nations, such as most of Europe and Canada, have significantly lower Gini coefficients than the United States. Many often attribute this trend to the partisan nature of addressing income inequality in the United States.\n",
    "  \n",
    "    A key drawback to using publicly available Gini coefficients would be the various ways inequality can manifest. Gini coefficients can often be blind to stored wealth or retired individuals. I will be addressing this drawback by using Gini coefficients of similar households, which will remove any major statistical flaws that could skew my findings.\n",
    "  \n",
    "    A key example of the United States federal government failing to address inequality would be the federal minimum wage. The minimum wage in the United States has been raised only three times since 1990. However, policies addressing alternative minim tax (AMT) have allowed it to adjust to inflation, which benefits those with higher incomes. No federal policies have been passed to automatically adjust the federal minimum wage to inflation (Koger). However, not all economists agree that increasing the minimum wage helps address inequality. Another policy we can look into would be earned income tax credit (EITC). This system assists low to middle income workers to receive tax refunds. Examining how policies passed that either expand or reduce EITC qualifications can also help explain how the Gini coefficient behaves under different periods.\n",
    "\n",
    "    Political parties are manifestations of social sentiments playing a role in our government. In general, Democratic members of Congress tend to vote in favour of policies supporting an increase in minimum wage (Bloch). It would then be reasonable to believe that during a Democratic government trifecta, where a single party controls The House of Representatives, the Senate, and the Presidency, more policies addressing inequality would be passed, since it would be less likely for laws to be vetoed by either Congress or the President. However, in spite this widely-held belief, inequality only continues to worsen in the United States even though there have been several instances where Democrats held control over the major federal government institutions. \n",
    "\n",
    "  We expect the Gini coefficient to increase rapidly during periods of a Republican trifecta, and it is expected for the opposite outcome to occur during a Democratic trifecta. We will then examine if any policies during these periods addressing inequality, such as policies aimed towards increasing minimum wage or modifying the AMT system, were passed or blocked to help explain for any trends we discover. One point of interest is the decade of the 1980 to 1990, which is when the Gini coefficient first began to steadily rise. Studying this period could help us understand how and why inequality began to rise, and if political parties play as a major factor. Since 1980, there have been five instances of a government trifecta, three of which were led by Democrats and two by Republicans. During these periods of government trifecta, we will explore whether the Gini coefficient of the United States changed significantly and in which direction this change occurred. During most of the 1980s, Democrats generally had more control over Congress. However, during this period, President Reagan also held office. Lastly, another period of interest to examine is the COVID-19 pandemic. During the pandemic, many countries reported increasing income inequality. We will examine this period to determine how significantly the Gini coefficient of the United States changed, and whether the partisanship of Congress and the Presidency played a major role in the policies passed during this period. These results could help us better understand how policy has influenced inequality in the United States, and hopefully allow us to reverse the trend of growing inequality in the United States that shows no signs of slowing down.\n",
    "\n",
    "  -boosting earned income tax credit > minimum wage\n",
    "      -supplemt to their wage\n",
    "      -history of earned income tax credit (introduced by Reagan)\n",
    "      -increased more under GOP or DNC\n",
    "  -amt's have had little effect on inequality, but has reduced loopholes\n",
    "  -search through papers for Gini data\n",
    "      -census bureua"
   ]
  },
  {
   "cell_type": "markdown",
   "id": "2ac34166-ce1c-4dd6-ab26-12ea1af86a34",
   "metadata": {},
   "source": [
    "*Data*\n",
    "\n",
    "- equivalence adjusted income\n",
    "- Census bureau\n",
    "- Import excel data\n",
    "    "
   ]
  },
  {
   "cell_type": "code",
   "execution_count": 1,
   "id": "65b4c9ca-0e6a-47da-904b-fd0ec513d284",
   "metadata": {
    "editable": true,
    "slideshow": {
     "slide_type": ""
    },
    "tags": []
   },
   "outputs": [],
   "source": [
    "import pandas as pd"
   ]
  },
  {
   "cell_type": "code",
   "execution_count": 2,
   "id": "1376932f-4704-49ed-9543-e41ea3f96f18",
   "metadata": {
    "editable": true,
    "slideshow": {
     "slide_type": ""
    },
    "tags": []
   },
   "outputs": [
    {
     "ename": "FileNotFoundError",
     "evalue": "[Errno 2] No such file or directory: 'GiniDAta.xlsx'",
     "output_type": "error",
     "traceback": [
      "\u001b[0;31m---------------------------------------------------------------------------\u001b[0m",
      "\u001b[0;31mFileNotFoundError\u001b[0m                         Traceback (most recent call last)",
      "Cell \u001b[0;32mIn[2], line 1\u001b[0m\n\u001b[0;32m----> 1\u001b[0m df \u001b[38;5;241m=\u001b[39m \u001b[43mpd\u001b[49m\u001b[38;5;241;43m.\u001b[39;49m\u001b[43mread_excel\u001b[49m\u001b[43m(\u001b[49m\u001b[38;5;124;43m'\u001b[39;49m\u001b[38;5;124;43mGiniDAta.xlsx\u001b[39;49m\u001b[38;5;124;43m'\u001b[39;49m\u001b[43m)\u001b[49m\n\u001b[1;32m      2\u001b[0m df\n\u001b[1;32m      4\u001b[0m df\n",
      "File \u001b[0;32m/opt/tljh/user/lib/python3.10/site-packages/pandas/io/excel/_base.py:478\u001b[0m, in \u001b[0;36mread_excel\u001b[0;34m(io, sheet_name, header, names, index_col, usecols, dtype, engine, converters, true_values, false_values, skiprows, nrows, na_values, keep_default_na, na_filter, verbose, parse_dates, date_parser, date_format, thousands, decimal, comment, skipfooter, storage_options, dtype_backend)\u001b[0m\n\u001b[1;32m    476\u001b[0m \u001b[38;5;28;01mif\u001b[39;00m \u001b[38;5;129;01mnot\u001b[39;00m \u001b[38;5;28misinstance\u001b[39m(io, ExcelFile):\n\u001b[1;32m    477\u001b[0m     should_close \u001b[38;5;241m=\u001b[39m \u001b[38;5;28;01mTrue\u001b[39;00m\n\u001b[0;32m--> 478\u001b[0m     io \u001b[38;5;241m=\u001b[39m \u001b[43mExcelFile\u001b[49m\u001b[43m(\u001b[49m\u001b[43mio\u001b[49m\u001b[43m,\u001b[49m\u001b[43m \u001b[49m\u001b[43mstorage_options\u001b[49m\u001b[38;5;241;43m=\u001b[39;49m\u001b[43mstorage_options\u001b[49m\u001b[43m,\u001b[49m\u001b[43m \u001b[49m\u001b[43mengine\u001b[49m\u001b[38;5;241;43m=\u001b[39;49m\u001b[43mengine\u001b[49m\u001b[43m)\u001b[49m\n\u001b[1;32m    479\u001b[0m \u001b[38;5;28;01melif\u001b[39;00m engine \u001b[38;5;129;01mand\u001b[39;00m engine \u001b[38;5;241m!=\u001b[39m io\u001b[38;5;241m.\u001b[39mengine:\n\u001b[1;32m    480\u001b[0m     \u001b[38;5;28;01mraise\u001b[39;00m \u001b[38;5;167;01mValueError\u001b[39;00m(\n\u001b[1;32m    481\u001b[0m         \u001b[38;5;124m\"\u001b[39m\u001b[38;5;124mEngine should not be specified when passing \u001b[39m\u001b[38;5;124m\"\u001b[39m\n\u001b[1;32m    482\u001b[0m         \u001b[38;5;124m\"\u001b[39m\u001b[38;5;124man ExcelFile - ExcelFile already has the engine set\u001b[39m\u001b[38;5;124m\"\u001b[39m\n\u001b[1;32m    483\u001b[0m     )\n",
      "File \u001b[0;32m/opt/tljh/user/lib/python3.10/site-packages/pandas/io/excel/_base.py:1496\u001b[0m, in \u001b[0;36mExcelFile.__init__\u001b[0;34m(self, path_or_buffer, engine, storage_options)\u001b[0m\n\u001b[1;32m   1494\u001b[0m     ext \u001b[38;5;241m=\u001b[39m \u001b[38;5;124m\"\u001b[39m\u001b[38;5;124mxls\u001b[39m\u001b[38;5;124m\"\u001b[39m\n\u001b[1;32m   1495\u001b[0m \u001b[38;5;28;01melse\u001b[39;00m:\n\u001b[0;32m-> 1496\u001b[0m     ext \u001b[38;5;241m=\u001b[39m \u001b[43minspect_excel_format\u001b[49m\u001b[43m(\u001b[49m\n\u001b[1;32m   1497\u001b[0m \u001b[43m        \u001b[49m\u001b[43mcontent_or_path\u001b[49m\u001b[38;5;241;43m=\u001b[39;49m\u001b[43mpath_or_buffer\u001b[49m\u001b[43m,\u001b[49m\u001b[43m \u001b[49m\u001b[43mstorage_options\u001b[49m\u001b[38;5;241;43m=\u001b[39;49m\u001b[43mstorage_options\u001b[49m\n\u001b[1;32m   1498\u001b[0m \u001b[43m    \u001b[49m\u001b[43m)\u001b[49m\n\u001b[1;32m   1499\u001b[0m     \u001b[38;5;28;01mif\u001b[39;00m ext \u001b[38;5;129;01mis\u001b[39;00m \u001b[38;5;28;01mNone\u001b[39;00m:\n\u001b[1;32m   1500\u001b[0m         \u001b[38;5;28;01mraise\u001b[39;00m \u001b[38;5;167;01mValueError\u001b[39;00m(\n\u001b[1;32m   1501\u001b[0m             \u001b[38;5;124m\"\u001b[39m\u001b[38;5;124mExcel file format cannot be determined, you must specify \u001b[39m\u001b[38;5;124m\"\u001b[39m\n\u001b[1;32m   1502\u001b[0m             \u001b[38;5;124m\"\u001b[39m\u001b[38;5;124man engine manually.\u001b[39m\u001b[38;5;124m\"\u001b[39m\n\u001b[1;32m   1503\u001b[0m         )\n",
      "File \u001b[0;32m/opt/tljh/user/lib/python3.10/site-packages/pandas/io/excel/_base.py:1371\u001b[0m, in \u001b[0;36minspect_excel_format\u001b[0;34m(content_or_path, storage_options)\u001b[0m\n\u001b[1;32m   1368\u001b[0m \u001b[38;5;28;01mif\u001b[39;00m \u001b[38;5;28misinstance\u001b[39m(content_or_path, \u001b[38;5;28mbytes\u001b[39m):\n\u001b[1;32m   1369\u001b[0m     content_or_path \u001b[38;5;241m=\u001b[39m BytesIO(content_or_path)\n\u001b[0;32m-> 1371\u001b[0m \u001b[38;5;28;01mwith\u001b[39;00m \u001b[43mget_handle\u001b[49m\u001b[43m(\u001b[49m\n\u001b[1;32m   1372\u001b[0m \u001b[43m    \u001b[49m\u001b[43mcontent_or_path\u001b[49m\u001b[43m,\u001b[49m\u001b[43m \u001b[49m\u001b[38;5;124;43m\"\u001b[39;49m\u001b[38;5;124;43mrb\u001b[39;49m\u001b[38;5;124;43m\"\u001b[39;49m\u001b[43m,\u001b[49m\u001b[43m \u001b[49m\u001b[43mstorage_options\u001b[49m\u001b[38;5;241;43m=\u001b[39;49m\u001b[43mstorage_options\u001b[49m\u001b[43m,\u001b[49m\u001b[43m \u001b[49m\u001b[43mis_text\u001b[49m\u001b[38;5;241;43m=\u001b[39;49m\u001b[38;5;28;43;01mFalse\u001b[39;49;00m\n\u001b[1;32m   1373\u001b[0m \u001b[43m\u001b[49m\u001b[43m)\u001b[49m \u001b[38;5;28;01mas\u001b[39;00m handle:\n\u001b[1;32m   1374\u001b[0m     stream \u001b[38;5;241m=\u001b[39m handle\u001b[38;5;241m.\u001b[39mhandle\n\u001b[1;32m   1375\u001b[0m     stream\u001b[38;5;241m.\u001b[39mseek(\u001b[38;5;241m0\u001b[39m)\n",
      "File \u001b[0;32m/opt/tljh/user/lib/python3.10/site-packages/pandas/io/common.py:868\u001b[0m, in \u001b[0;36mget_handle\u001b[0;34m(path_or_buf, mode, encoding, compression, memory_map, is_text, errors, storage_options)\u001b[0m\n\u001b[1;32m    859\u001b[0m         handle \u001b[38;5;241m=\u001b[39m \u001b[38;5;28mopen\u001b[39m(\n\u001b[1;32m    860\u001b[0m             handle,\n\u001b[1;32m    861\u001b[0m             ioargs\u001b[38;5;241m.\u001b[39mmode,\n\u001b[0;32m   (...)\u001b[0m\n\u001b[1;32m    864\u001b[0m             newline\u001b[38;5;241m=\u001b[39m\u001b[38;5;124m\"\u001b[39m\u001b[38;5;124m\"\u001b[39m,\n\u001b[1;32m    865\u001b[0m         )\n\u001b[1;32m    866\u001b[0m     \u001b[38;5;28;01melse\u001b[39;00m:\n\u001b[1;32m    867\u001b[0m         \u001b[38;5;66;03m# Binary mode\u001b[39;00m\n\u001b[0;32m--> 868\u001b[0m         handle \u001b[38;5;241m=\u001b[39m \u001b[38;5;28;43mopen\u001b[39;49m\u001b[43m(\u001b[49m\u001b[43mhandle\u001b[49m\u001b[43m,\u001b[49m\u001b[43m \u001b[49m\u001b[43mioargs\u001b[49m\u001b[38;5;241;43m.\u001b[39;49m\u001b[43mmode\u001b[49m\u001b[43m)\u001b[49m\n\u001b[1;32m    869\u001b[0m     handles\u001b[38;5;241m.\u001b[39mappend(handle)\n\u001b[1;32m    871\u001b[0m \u001b[38;5;66;03m# Convert BytesIO or file objects passed with an encoding\u001b[39;00m\n",
      "\u001b[0;31mFileNotFoundError\u001b[0m: [Errno 2] No such file or directory: 'GiniDAta.xlsx'"
     ]
    }
   ],
   "source": [
    "df = pd.read_excel('GiniDAta.xlsx')\n",
    "df\n",
    "\n",
    "df\n",
    "\n",
    "# Reversing the DataFrame\n",
    "new_df = df.iloc[::-1]\n",
    "\n",
    "# Display the reversed DataFrame\n",
    "print(\"\\nchron DataFrame:\")\n",
    "print(new_df)"
   ]
  },
  {
   "cell_type": "code",
   "execution_count": null,
   "id": "d88a4edb-2e16-4c24-be01-4aeb3deb6df9",
   "metadata": {
    "editable": true,
    "slideshow": {
     "slide_type": ""
    },
    "tags": []
   },
   "outputs": [],
   "source": [
    "selected_column = 'Gini'\n",
    "\n",
    "new_df.loc[0, 'Change in Gini'] = 0\n",
    "# new column that measures the Gini change anually\n",
    "new_df['Change in Gini'] = new_df['Gini'] - new_df['Gini'].shift(1)\n",
    "\n",
    "\n",
    "new_df"
   ]
  },
  {
   "cell_type": "code",
   "execution_count": null,
   "id": "6629c7de-d767-4ac0-b78b-85ba78250f1d",
   "metadata": {},
   "outputs": [],
   "source": [
    "import matplotlib.pyplot as plt\n",
    "\n",
    "x = new_df['Year']\n",
    "y = new_df['Gini']\n",
    "\n",
    "\n",
    "plt.figure(figsize=(10, 6))\n",
    "plt.plot(x, y, linestyle='-', color='b', label='Gini')\n",
    "plt.title('Gini is increasing')\n",
    "plt.xlabel('Year')\n",
    "plt.ylabel('Gini\\n(Equivalence-Adjusted Income)')\n",
    "plt.legend()\n",
    "plt.grid(False)\n",
    "plt.show()\n",
    "\n",
    "# Create data set where change in Gini is graphed\n"
   ]
  },
  {
   "cell_type": "code",
   "execution_count": null,
   "id": "2a26798a-b425-4b3f-b7f8-94fe6f8a9d1a",
   "metadata": {},
   "outputs": [],
   "source": [
    "plt.figure(figsize=(10, 6))\n",
    "plt.bar(df['Year'], new_df['Change in Gini'], color='skyblue')\n",
    "plt.title('Annual Gini Change')\n",
    "plt.xlabel('Year')\n",
    "plt.ylabel('Difference')\n",
    "plt.grid(axis='y')\n",
    "plt.show()\n",
    "\n"
   ]
  },
  {
   "cell_type": "code",
   "execution_count": null,
   "id": "ba64207c-e1ec-4a3b-8e96-4a9bab0524b4",
   "metadata": {
    "editable": true,
    "slideshow": {
     "slide_type": ""
    },
    "tags": []
   },
   "outputs": [],
   "source": [
    "new_df"
   ]
  },
  {
   "cell_type": "code",
   "execution_count": null,
   "id": "f3906c01-7268-4667-83c6-341381460393",
   "metadata": {
    "editable": true,
    "slideshow": {
     "slide_type": ""
    },
    "tags": []
   },
   "outputs": [],
   "source": [
    "import statsmodels.api as sm\n",
    "\n",
    "filtered_df = new_df[new_df['Year'] >= 1968]\n",
    "filtered_df['intercept'] = 1\n",
    "\n",
    "model = sm.OLS(filtered_df['Change in Gini'], filtered_df[['intercept', 'PrParty']])\n",
    "result = model.fit()\n",
    "\n",
    "# Print the summary of the regression\n",
    "print(result.summary())"
   ]
  },
  {
   "cell_type": "code",
   "execution_count": null,
   "id": "7ad8fbd1-70f4-46a7-9281-7759b551c1fe",
   "metadata": {},
   "outputs": [],
   "source": [
    "model = sm.OLS(filtered_df['Change in Gini'], filtered_df[['intercept', 'RepCong']])\n",
    "result = model.fit()\n",
    "\n",
    "# Print the summary of the regression\n",
    "print(result.summary())"
   ]
  },
  {
   "cell_type": "code",
   "execution_count": null,
   "id": "369abe74-46e0-446f-8c2c-44553ea8d60e",
   "metadata": {
    "editable": true,
    "slideshow": {
     "slide_type": ""
    },
    "tags": []
   },
   "outputs": [],
   "source": [
    "model = sm.OLS(filtered_df['Change in Gini'], filtered_df[['intercept', 'DemCong']])\n",
    "result = model.fit()\n",
    "\n",
    "# Print the summary of the regression\n",
    "print(result.summary())"
   ]
  },
  {
   "cell_type": "code",
   "execution_count": null,
   "id": "ca9d1bde-5002-40c2-9c40-3dccfc16deb0",
   "metadata": {
    "editable": true,
    "slideshow": {
     "slide_type": ""
    },
    "tags": []
   },
   "outputs": [],
   "source": [
    "model = sm.OLS(filtered_df['Change in Gini'], filtered_df[['intercept', 'Trifecta']])\n",
    "result = model.fit()\n",
    "\n",
    "# Print the summary of the regression\n",
    "print(result.summary())"
   ]
  },
  {
   "cell_type": "markdown",
   "id": "3fd8d53b-ea03-47b6-9191-247650d76183",
   "metadata": {},
   "source": [
    "**Sources to Use**\n",
    "\n",
    "Acemoglu, Daron. 2002. “Technical Change, Inequality, and the Labor Market.” Journal of Economic Literature 40 (1): 7–72.\n",
    "\n",
    "Alvaredo, Facundo, Anthony B. Atkinson, Thomas Piketty, and Emmanuel Saez. 2013. “The Top 1 Percent in International and Historical Perspective.” The Journal of Economic Perspectives: A Journal of the American Economic Association 27 (3): 3–20.\n",
    "\n",
    "Berkowitz, Daniel, and George A. Krause. 2020. “How Bureaucratic Leadership Shapes Policy Outcomes: Partisan Politics and Affluent Citizens’ Incomes in the American States.” Journal of Public Policy 40 (2): 305–28.\n",
    "\n",
    "Blackwell, Calvin, Rachel Graefe-Anderson, Frank L. Hefner, and Dyanne Vaught. 2015. “Wealth Inequality and CEO Compensation.” https://doi.org/10.2139/ssrn.2599740.\n",
    "\n",
    "Chen, Tiejun, Giray Gozgor, and Chun Kwong Koo. 2021. “Pandemics and Income Inequality: What Do the Data Tell for the Globalization Era?” Frontiers in Public Health 9 (May): 674729.\n",
    "\n",
    "Crawford, Constance J., and Corinne L. Crawford. 2007. “The Inequity In The Current Tax System: Does The Alternative Minimum Tax Create Additional Problems In The System?” Journal of Business & Economics Research (JBER) 5 (2). https://doi.org/10.19030/jber.v5i2.2517.\n",
    "\n",
    "Dittmann, Ingolf, Maurizio Montone, and Yuhao Zhu. 2023. “Wage Gap and Stock Returns: Do Investors Dislike Pay Inequality?” Journal of Corporate Finance 78 (February): 102322.\n",
    "\n",
    "Engelhardt, Gary V., and Patrick J. Purcell. 2021. “The Minimum Wage and Annual Earnings Inequality.” Economics Letters 207 (October): 110001.\n",
    "\n",
    "Faricy, Christopher G. 2015. Welfare for the Wealthy: Parties, Social Spending, and Inequality in the United States. Cambridge University Press.\n",
    "\n",
    "Gabaix, Xavier, and Augustin Landier. 2008. “Why Has CEO Pay Increased So Much?*.” The Quarterly Journal of Economics 123 (1): 49–100.\n",
    "\n",
    "Giordono, Leanne S., Michael D. Jones, and David W. Rothwell. 2019. “Social Policy Perspectives on Economic Inequality in Wealthy Countries.” Policy Studies Journal: The Journal of the Policy Studies Organization 47 (S1): S96–118.\n",
    "\n",
    "Graycar, Adam, and Olivia Monaghan. 2015. “Rich Country Corruption.” International Journal of Public Administration 38 (8): 586–95.\n",
    "\n",
    "Hacker, Jacob S., and Paul Pierson. 2011. “Winner-Take-All Politics: How Washington Made the Rich Richer--and Turned Its Back on the Middle Class.” Choice  48 (11): 48–6579 – 48–6579.\n",
    "\n",
    "Khatiwada, Sameer. 2010. “Did the Financial Sector Profit at the Expense of the Rest of the Economy? Evidence from the United States.”\n",
    "\n",
    "Koger, Gregory, and Stefanie Rodriguez. 2021. “Economic Inequality and Congressional Action in the United States: A Comparison of the Minimum Wage and Alternative Minimum Tax.” Poverty & Public Policy 13 (3): 273–92.\n",
    "\n",
    "Lenger, Alexander, Stephan Wolf, and Nils Goldschmidt. 2021. “Choosing Inequality: How Economic Security Fosters Competitive Regimes.” Journal of Economic Inequality 19 (2): 315–46.\n",
    "\n",
    "Manning, Alan, and Christopher L. Smith. 2010. “The Contribution of the Minimum Wage to U.S. Wage Inequality Over Three Decades: A Reassessment.” https://doi.org/10.2139/ssrn.1960064.\n",
    "\n",
    "Nolan, Brian, Matteo G. Richiardi, and Luis Valenzuela. 2019. “The Drivers of Income Inequality in Rich Countries.” Journal of Economic Surveys 33 (4): 1285–1324.\n",
    "\n",
    "Piketty, Thomas. 2014. Capital in the Twenty-First Century. Harvard University Press.\n",
    "\n",
    "Piketty, Thomas, and Emmanuel Saez. 2003. “Income Inequality in the United States, 1913–1998*.” The Quarterly Journal of Economics 118 (1): 1–41.\n",
    "\n",
    "———. 2014. “Inequality in the Long Run.” Science 344 (6186): 838–43.\n",
    "\n",
    "Piketty, Thomas, Emmanuel Saez, and Stefanie Stantcheva. 2014. “Optimal Taxation of Top Labor Incomes: A Tale of Three Elasticities.” American Economic Journal: Economic Policy 6 (1): 230–71.\n",
    "\n",
    "Sayed, Adham, and Bin Peng. 2021. “Pandemics and Income Inequality: A Historical Review.” SN Business & Economics 1 (4): 54.\n",
    "\n",
    "Song, Jae, David J. Price, Fatih Guvenen, Nicholas Bloom, and Till von Wachter. 2018. “Firming Up Inequality*.” The Quarterly Journal of Economics 134 (1): 1–50.\n"
   ]
  },
  {
   "cell_type": "markdown",
   "id": "02d0f814-5c82-496f-b5cc-fd0db8cf6024",
   "metadata": {},
   "source": [
    "# Read in data files \n",
    "# GOP term flags\n",
    "url = \"https://github.com/llorracc/as.180.369/blob/main/materials/presidential-term-data/GOP_flag.csv?raw=true\"\n",
    "temp = pd.read_csv(url,dtype=str)\n",
    "df_gop = pd.DataFrame(temp)\n",
    "\n",
    "# Add a specific day (e.g., the first day of the month)\n",
    "df_gop['Date'] = df_gop['Date'] + '.01'\n",
    "\n",
    "# Convert the complete date string to a datetime object\n",
    "#df_gop['Date'] = datetime.strptime(df_gop['Date'], '%Y-%m-%d')\n",
    "df_gop['Date'] = pd.to_datetime(df_gop['Date'])\n",
    "df_gop['Date'] = df_gop['Date'].dt.normalize()\n",
    "df_gop['Date'] = df_gop['Date'].dt.floor('D')\n",
    "print(df_gop.head)\n"
   ]
  },
  {
   "cell_type": "markdown",
   "id": "af05fbfa-2615-471b-9639-b47e51c86f61",
   "metadata": {},
   "source": [
    "def plot_series(ax, df, index='Date', cols=['Real_Total_Return'], area='GOP'):\n",
    "    # convert area variable to boolean\n",
    "    df[area] = df[area].astype(int).astype(bool)\n",
    "    # set up an index based on date\n",
    "    df = df.set_index(keys=index, drop=False)\n",
    "    # line plot\n",
    "    df.plot(ax=ax, x=Year, y=Gini, color='blue', legend=False)\n",
    "    # extract limits\n",
    "    y1, y2 = ax.get_ylim()\n",
    "    ax.fill_between(\n",
    "        df[index].index, y1=y1, y2=y2, where=df[area], facecolor='tab:red', alpha=0.4\n",
    "    )\n",
    "    return ax\n",
    "\n",
    "# set up figure, axis\n",
    "f, ax = plt.subplots(figsize=(12, 6))\n",
    "plot_series(ax, df)\n",
    "ax.set_title('Returns are Lower Under GOP Presidencies', loc='left')\n",
    "\n",
    "# ax.grid(visible=False)\n",
    "ax.grid(axis='y')\n",
    "ax.set_xlabel('')\n",
    "ax.set_ylabel('Total Return\\n(Real 2015 $)')"
   ]
  },
  {
   "cell_type": "code",
   "execution_count": null,
   "id": "53405766-3441-457f-8010-1b920419cd45",
   "metadata": {},
   "outputs": [],
   "source": []
  },
  {
   "cell_type": "code",
   "execution_count": null,
   "id": "8ff3d9ad-808e-4357-881a-d068f95c343b",
   "metadata": {},
   "outputs": [],
   "source": []
  },
  {
   "cell_type": "code",
   "execution_count": null,
   "id": "cc69eed0-a4f9-4aeb-ab2f-e01eb7185c59",
   "metadata": {},
   "outputs": [],
   "source": []
  },
  {
   "cell_type": "code",
   "execution_count": null,
   "id": "e8c3efa6-a324-49cf-9885-d45c59122817",
   "metadata": {},
   "outputs": [],
   "source": []
  },
  {
   "cell_type": "code",
   "execution_count": null,
   "id": "c73bf6f9-27fa-4ffe-83ac-84a12cdaa8c2",
   "metadata": {},
   "outputs": [],
   "source": []
  },
  {
   "cell_type": "code",
   "execution_count": null,
   "id": "0800c2cd-e2a2-4d97-9095-3b8c917fad17",
   "metadata": {},
   "outputs": [],
   "source": []
  },
  {
   "cell_type": "code",
   "execution_count": null,
   "id": "a2f71ad5-3e0f-4ecf-92ee-1d74e070113d",
   "metadata": {},
   "outputs": [],
   "source": []
  },
  {
   "cell_type": "code",
   "execution_count": null,
   "id": "8f62bd3f-cbe0-4e67-a2d9-d726da20c1e0",
   "metadata": {
    "editable": true,
    "slideshow": {
     "slide_type": ""
    },
    "tags": []
   },
   "outputs": [],
   "source": []
  }
 ],
 "metadata": {
  "kernelspec": {
   "display_name": "Python 3 (ipykernel)",
   "language": "python",
   "name": "python3"
  },
  "language_info": {
   "codemirror_mode": {
    "name": "ipython",
    "version": 3
   },
   "file_extension": ".py",
   "mimetype": "text/x-python",
   "name": "python",
   "nbconvert_exporter": "python",
   "pygments_lexer": "ipython3",
   "version": "3.10.10"
  }
 },
 "nbformat": 4,
 "nbformat_minor": 5
}
