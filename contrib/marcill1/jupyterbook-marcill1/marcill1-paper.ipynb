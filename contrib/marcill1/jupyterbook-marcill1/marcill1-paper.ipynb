{
 "cells": [
  {
   "cell_type": "markdown",
   "id": "f8c75dd5-0a52-4352-8d1d-4196b58e89ea",
   "metadata": {},
   "source": [
    "# Inequality and Political Parties\n",
    "## Matt Arcillo"
   ]
  },
  {
   "cell_type": "markdown",
   "id": "a6868cdb-1e3f-46a0-8271-c4133449cd39",
   "metadata": {},
   "source": [
    "### Abstract\n",
    "\n",
    "Inequality in the United States has increased significantly since the 1970s (Rodriguez). In the United States, policies regarding income equality has become a partisan issue. Republicans often have strong ties with businesses, which often promotes policies in favor of lower minimum wages. In contrast, Democrats often work with labor unions to help promote policies in favor of increasing the minimum wage. Using the GINI coefficient, which measures the level of inequality within a given country, we can determine how strong of a role parties in Congress and the party of the President play in the increasing wealth inequality of the United States. If a relationship is present, it can help us understand why inequality still continues to rise. We will investigate if either Congress or the Executive Branch, depending on party affiliation, has more of an impact on the Gini index, while also examining whether significant changes in the Gini coefficient are present during a government trifecta, which is when a single party controls both chambers of Congress and the Presidency."
   ]
  },
  {
   "cell_type": "markdown",
   "id": "a62c18d9-43b6-4b9f-a237-f8d3d6de7e73",
   "metadata": {},
   "source": [
    "#### Introduction\n",
    "\n",
    "Inequality in the United States has been a growing issue since 1980. While the United States remains one of the wealthiest nations in the world, the United States has one of the highest levels of inequality among developed nations, and the issue seems to be worsening. Inequality comes with several consequences for a country, and can be damaging economically, socially, and politically. These problems work in tandem, and while it is possible to examine the level of inequality solely through economics metrics, we will also need to examine the contributions the government has made to address inequality, and whether these contributions are positive or negative. Additionally, these economic trends and government policies are both influenced by society, and in return policies passed by the government also influence society. The relationship between society and government often manifested in the form of political parties. We must utilize all three to help us understand how inequality in the United States has reached this height and why it continues to worsen.\n",
    "  \n",
    "The Gini coefficient is a value that measures the level of income distribution and is often used as the standard metric for tracking economic inequality within a country. Gini coefficients range from 0-1; 0 being the lowest score possible, indicating no income inequality, and 1 being the highest possible level of income inequality. Since 1980, the Gini coefficient of the United States has steadily risen from 0.347 to as high as 0.415 in 2019. In contrast, wealthy Western nations, such as most of Europe and Canada, have significantly lower Gini coefficients than the United States. Many often attribute this trend to the partisan nature of addressing income inequality in the United States.\n",
    "  \n",
    "A key drawback to using publicly available Gini coefficients would be the various ways inequality can manifest. Gini coefficients can often be blind to stored wealth or retired individuals. I will be addressing this drawback by using Gini coefficients of similar households, which will remove any major statistical flaws that could skew my findings.\n",
    "  \n",
    "A key example of the United States federal government failing to address inequality would be the federal minimum wage. The minimum wage in the United States has been raised only three times since 1990. However, policies addressing alternative minim tax (AMT) have allowed it to adjust to inflation, which benefits those with higher incomes. No federal policies have been passed to automatically adjust the federal minimum wage to inflation (Koger). However, not all economists agree that increasing the minimum wage helps address inequality. Another policy we can look into would be earned income tax credit (EITC). This system assists low to middle income workers to receive tax refunds. Examining how policies passed that either expand or reduce EITC qualifications can also help explain how the Gini coefficient behaves under different periods.\n",
    "\n",
    "Political parties are manifestations of social sentiments playing a role in our government. In general, Democratic members of Congress tend to vote in favour of policies supporting an increase in minimum wage (Bloch). It would then be reasonable to believe that during a Democratic government trifecta, where a single party controls The House of Representatives, the Senate, and the Presidency, more policies addressing inequality would be passed, since it would be less likely for laws to be vetoed by either Congress or the President. However, in spite this widely-held belief, inequality only continues to worsen in the United States even though there have been several instances where Democrats held control over the major federal government institutions. \n",
    "\n",
    "We expect the Gini coefficient to increase rapidly during periods of a Republican trifecta, and it is expected for the opposite outcome to occur during a Democratic trifecta. We will then examine if any policies during these periods addressing inequality, such as policies aimed towards increasing minimum wage or modifying the AMT system, were passed or blocked to help explain for any trends we discover. One point of interest is the decade of the 1980 to 1990, which is when the Gini coefficient first began to steadily rise. Studying this period could help us understand how and why inequality began to rise, and if political parties play as a major factor. Since 1980, there have been five instances of a government trifecta, three of which were led by Democrats and two by Republicans. During these periods of government trifecta, we will explore whether the Gini coefficient of the United States changed significantly and in which direction this change occurred. During most of the 1980s, Democrats generally had more control over Congress. However, during this period, President Reagan also held office. Lastly, another period of interest to examine is the COVID-19 pandemic. During the pandemic, many countries reported increasing income inequality. We will examine this period to determine how significantly the Gini coefficient of the United States changed, and whether the partisanship of Congress and the Presidency played a major role in the policies passed during this period. These results could help us better understand how policy has influenced inequality in the United States, and hopefully allow us to reverse the trend of growing inequality in the United States that shows no signs of slowing down."
   ]
  },
  {
   "cell_type": "markdown",
   "id": "48c84196-1999-4187-bf9e-d0be463b9707",
   "metadata": {},
   "source": [
    "### Literature Review\n",
    "\n",
    "- Gini coefficient\n",
    "- History of inequality\n",
    "- \"Fluctuations in the real minimum wage are not a plausible explanation for these trends since the bulk of inequality growth occurs above the median of the wage distribution.\" Autor 2008\n",
    "\n",
    "Where the research stands, the relationship between political parties and inequality is generally understudied. However, there is plenty of research linking inequality to development trends and certain policies. \n",
    "\n",
    "Many economics scholars argue that the rise in inequality is a consequence of slowed economic growt"
   ]
  },
  {
   "cell_type": "markdown",
   "id": "1715328d-6ccd-4a71-82ee-3e23197c0dbd",
   "metadata": {},
   "source": [
    "### Methodology"
   ]
  },
  {
   "cell_type": "markdown",
   "id": "a613c6a1-7ff2-44ff-9184-dc3664d454c2",
   "metadata": {},
   "source": [
    "I will be collecting data from the US census bureau. I will be using Gini coefficients using equivalence adjusted incomes to help account for differences between households.\n",
    "\n",
    "I will run () regressions.\n",
    "1. Relationship between annual Gini coefficient changes and senate party majority.\n",
    "2. Relationship between annual Gini coefficient changes and house party majority.\n",
    "3. Relationship between annual Gini coefficient changes and the political party of the President.\n",
    "4. Relationship between annual Gini coefficient and presence of trifectas.\n",
    "\n"
   ]
  }
 ],
 "metadata": {
  "kernelspec": {
   "display_name": "Python 3 (ipykernel)",
   "language": "python",
   "name": "python3"
  },
  "language_info": {
   "codemirror_mode": {
    "name": "ipython",
    "version": 3
   },
   "file_extension": ".py",
   "mimetype": "text/x-python",
   "name": "python",
   "nbconvert_exporter": "python",
   "pygments_lexer": "ipython3",
   "version": "3.10.10"
  }
 },
 "nbformat": 4,
 "nbformat_minor": 5
}
