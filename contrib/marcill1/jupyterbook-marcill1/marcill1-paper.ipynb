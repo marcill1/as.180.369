{
 "cells": [
  {
   "cell_type": "markdown",
   "id": "f8c75dd5-0a52-4352-8d1d-4196b58e89ea",
   "metadata": {},
   "source": [
    "# Inequality and Political Parties\n",
    "## Matt Arcillo"
   ]
  },
  {
   "cell_type": "markdown",
   "id": "a6868cdb-1e3f-46a0-8271-c4133449cd39",
   "metadata": {},
   "source": [
    "### Abstract\n",
    "\n",
    "Inequality in the United States has increased significantly since the 1970s. In the United States, policies regarding income equality has become a partisan issue. Republicans often have strong ties with businesses, which often promotes policies in favor of lower minimum wages. In contrast, Democrats often work with labor unions to help promote policies in favor of increasing the minimum wage. Using the GINI coefficient, which measures the level of inequality within a given country, we can determine how strong of a role parties in Congress and the party of the President play in the increasing wealth inequality of the United States. If a relationship is present, it can help us understand why inequality still continues to rise. We will investigate if either Congress or the Executive Branch, depending on party affiliation, has more of an impact on the Gini index, while also examining whether significant changes in the Gini coefficient are present during a government trifecta, which is when a single party controls both chambers of Congress and the Presidency."
   ]
  },
  {
   "cell_type": "markdown",
   "id": "a62c18d9-43b6-4b9f-a237-f8d3d6de7e73",
   "metadata": {},
   "source": [
    "#### Introduction\n",
    "\n",
    "Inequality in the United States has been a growing issue since 1980. While the United States remains one of the wealthiest nations in the world, the United States has one of the highest levels of inequality among developed nations, and the issue seems to be worsening. Inequality comes with several consequences for a country, and can be damaging economically, socially, and politically. These problems work in tandem, and while it is possible to examine the level of inequality solely through economics metrics, we will also need to examine the contributions the government has made to address inequality, and whether these contributions are positive or negative. Additionally, these economic trends and government policies are both influenced by society, and in return policies passed by the government also influence society. \n",
    "\n",
    "The relationship between society and government often manifested in the form of political parties. We must utilize all three to help us understand how inequality in the United States has reached this height and why it continues to worsen. What is currently not well understood with the current research would be if a relationship is present between political parties at the federal level and the Gini coefficient, and more importantly, what these relationships imply for inequality. \n",
    "\n",
    "We expect the Gini coefficient to increase rapidly during periods of a Republican congresses and presidencies, and it is expected for the opposite outcome to occur during a Democratic congresses and presidencies. The focus of the study would be from 1967 to 2022, which provides the most reliable data necessary for this study. This period also encompasses when the Gini coefficient first began to steadily rise. Studying this period could help us understand how and why inequality began to rise, and if political parties play as a major factor. These results could help us better understand how politcal parties has influenced inequality in the United States, and hopefully allow us to reverse the trend of growing inequality in the United States that shows no signs of slowing down."
   ]
  },
  {
   "cell_type": "markdown",
   "id": "f9874087-d52e-45a9-87f3-c86b4d62ba80",
   "metadata": {},
   "source": [
    "![Figure 1: Gini over time](images/GiniGraph3.jpg)\n"
   ]
  },
  {
   "cell_type": "markdown",
   "id": "27628baa-ae29-4d2c-9d26-cb016aea32cd",
   "metadata": {},
   "source": [
    "The Gini coefficient is a value that measures the level of income distribution and is often used as the standard metric for tracking economic inequality within a country. Gini coefficients range from 0-1; 0 being the lowest score possible, indicating no income inequality, and 1 being the highest possible level of income inequality. Since 1980, the Gini coefficient of the United States has steadily risen from 0.347 to as high as 0.415 in 2019. In contrast, wealthy Western nations, such as most of Europe and Canada, have significantly lower Gini coefficients than the United States. Many often attribute this trend to the partisan nature of addressing income inequality in the United States.\n",
    "\n",
    "A key drawback to using publicly available Gini coefficients would be the various ways inequality can manifest. Gini coefficients can often be blind to stored wealth or retired individuals. I will be addressing this drawback by using Gini coefficients of similar households, which will remove any major statistical flaws that could skew my findings.\n",
    "  \n",
    "A key example of the United States federal government failing to address inequality would be the federal minimum wage. The minimum wage in the United States has been raised only three times since 1990. However, policies addressing alternative minim tax (AMT) have allowed it to adjust to inflation, which benefits those with higher incomes. No federal policies have been passed to automatically adjust the federal minimum wage to inflation {cite:p}`economic_koger_2021`. However, not all economists agree that increasing the minimum wage helps address inequality. Another policy we can look into would be earned income tax credit (EITC). This system assists low to middle income workers to receive tax refunds. Examining how policies passed that either expand or reduce EITC qualifications can also help explain how the Gini coefficient behaves under different periods.\n",
    "\n",
    "Political parties are manifestations of social sentiments playing a role in our government. In general, Democratic members of Congress tend to vote in favour of policies supporting an increase in minimum wage {cite:p}`political_bloch_1980`. It would then be reasonable to believe that during a Democratic government trifecta, where a single party controls The House of Representatives, the Senate, and the Presidency, more policies addressing inequality would be passed, since it would be less likely for laws to be vetoed by either Congress or the President. However, in spite this widely-held belief, inequality only continues to worsen in the United States even though there have been several instances where Democrats held control over the major federal government institutions. "
   ]
  },
  {
   "cell_type": "markdown",
   "id": "48c84196-1999-4187-bf9e-d0be463b9707",
   "metadata": {
    "editable": true,
    "slideshow": {
     "slide_type": ""
    },
    "tags": []
   },
   "source": [
    "### Literature Review\n",
    "\n",
    "When examining the current body of research, the relationship between political parties and inequality is generally understudied. However, inequality is a thoroughly researched topic. Rising inequality has become a topic of concern due to its consequences. Inequality has been steadily declining during the period of modernization. It is not until the 1970s when inequality begins to rise again {cite:p}`inequality_piketty_2014`.\n",
    "\n",
    "Since inequality is heavily studied, there is plenty of research linking inequality to development trends and certain policies. One recent paper has found that during unified Republican state governments, income gains amongst the more affluent citizens, and the opposite trend is observed during Democratic state governments {cite:p}`bureaucratic_berkowitz_2020`. This study will be a strong basis of my study, however rather than studying the state-level effects on income for the affluent, I will study the effects of overall inequality caused by the party control of the Federal government. However, doing so may yield less significant results, since so many players and factors are at play on the federal level. \n",
    "\n",
    "Many economics scholars argue that the rise in inequality is a consequence of slowed economic growth during the late 20th century. In addition, as technology continues to improve, certain routine skills become less valuable. As technology reduces the demand for skills, often in routine labour, employers will often hire low-wage workers, which increases inequality in the bottom 50% of earners {cite:p}`revisiting_danieli_2022`. During the 1990s, wages have generally been increasing for high-skilled earners and decreasing for low-skilled earners {cite:p}`wage_juhn_1993`. Low-skilled workers are often replaced by new technology {cite:P}`capitalskill_krusell_2000`. The replacement of labor by capital continues today, and is generally agreed on to be one of the continuing drivers inequality. However, most of the developed world do not suffer from the same level of inequality that exists in the United States. Therefore, it is important to study other factors and actors in play in the United States.\n",
    "\n",
    "One policy tool that often comes to mind when thinking about inequality is the minimum wage. Economists often disagree if whether increasing the minimum wage contributes to higher or lower inequality {cite:p}`trends_autor_2008`. However, recent studies have found that increasing minimum wage does reduce inequality in the bottom quartile and decile of earners, however it can increase overall inequality {cite:p}`minimum_engelhardt_2021`. The relationship between minimum wage policies and political parties is well studied. In Congress, Democrats often vote for increases to the minimum wage, while Republicans often vote for policies that keep it stagnant {cite:p}`political_bloch_1980`. Finding a way to link these two bodies of research could help link the gap between partisanship and inequality. \n",
    "\n",
    "Another policy tool is the earned income tax credit (EITC). This is a policy tool has been designed to help relieve low to middle income earners by allowing them to earn tax refunds, if eligable. Alternative Minimum Tax (AMT) is another example of a policy that has been blamed for worsening inequality for the middle class {cite:p}`inequity_crawford_2011`. AMT differs from EITC in which it is meant to prevent wealthy individuals and corporations from using tax deductions to avoid paying taxes. While these tools are used to remedy inequality, they can often worsen inequality if improperly implemented {cite:p}`economic_koger_2021`.\n",
    "\n",
    "Inequality can be studied through a variety of approaches. Many studies often overlook overall inequality and instead study equality within quartiles. A large body of literature exists attempting to explain the existence of inequality among low to middle class people. This could be because there is more interest in studying how income inequality affects low to middle class people, since the vast majority of people belong to these groups {cite:p}`social_giordono_2019`. Another important group of people affected by inequality would be the middle class. The United States' problem with inequality also has uniquely disadvantaged the middle class {cite:p}`middlewage_cortes_2016`.\n",
    "\n",
    "One last thing to consider when studying inequality would be factors outside of the control of the federal government. The COVID-19 Pandemic is one example of an event that was especially economically disruptive {cite:p}`pandemics_sayed_2021, pandemics_chen_2021`. It is important to note this event, especially if any considerable changes to inequality are observed during and after the pandemic. However, these events cannot be ignored, since lawmakers still often pass policies that can help reduce the impacts of these events, or pass policies that worsen them. Recessions, for example, often worsen inequality, especially for low-income people {cite:p}`rise_heathcote_2020, unequal_heathcote_2010`. \n",
    "\n",
    "The current standing research focusing on inequality is currently divided. Economists often disagree on which factor is the leading cause, while some disagree on whether certain policies address inequality effectively or worsen it. While some research focus on the impact of policy and other research focus on broader macroeconomic trends, research linking these two are still limited. The gap I am choosing to address would be if political parties play a significant role in affecting inequality. Politicians are oftentimes not economists, and the policy decisions they make can often have adverse effects on the economy, intentional or not. Understanding the role of political parties as actors can help us better understand why inequality in the United States is significantly higher than other developed nations and why, despite policy efforts, it continues to rise. "
   ]
  },
  {
   "cell_type": "markdown",
   "id": "1715328d-6ccd-4a71-82ee-3e23197c0dbd",
   "metadata": {},
   "source": [
    "### Methodology"
   ]
  },
  {
   "cell_type": "markdown",
   "id": "a613c6a1-7ff2-44ff-9184-dc3664d454c2",
   "metadata": {},
   "source": [
    "I will be collecting data from the US census bureau. I will be using Gini coefficients based on equivalence adjusted incomes to help account for differences between households. Equivalence adjusted income accounts for household sizes, which can be overlooked if calculating the Gini coefficient solely by examining income data. Current Population Survey (CPS) is the source of this data, which sampled 54000 households monthly, and the data has been collected annually for 50 years. For my research, I will be using Gini coefficient data starting from 1967 to 2022.\n",
    "\n",
    "Data regarding party control of Congress is retrieved from the United States Senate website. The political party affiliation the president is public data.\n",
    "\n",
    "With the data collected, the next step is to calculate the annual change in Gini. The net change in annual Gini will be used to calculate four binary regressions. \n",
    "\n",
    "I will run 4 regressions:\n",
    "1. Relationship between annual Gini coefficient changes and presence of Republican Party unity in Congress.\n",
    "3. Relationship between annual Gini coefficient changes and presence of Democratic Party unity in Congress.\n",
    "4. Relationship between annual Gini coefficient changes and the political party of the President.\n",
    "5. Relationship between annual Gini coefficient and presence of trifectas.\n",
    "\n",
    "With the fourth regression, I am choosing to ignore the political party of the trifecta since there are only a limited number of government trifectas within the time-period testing. With these four regressions, my goal is to determine whether any statistically significant relationship can be found between political parties and income inequality in the United States on the federal government level, and what implications these relationships have on US inequality. "
   ]
  },
  {
   "cell_type": "markdown",
   "id": "1c3dfe58-30e4-4a65-b857-1cddcc46b835",
   "metadata": {
    "editable": true,
    "slideshow": {
     "slide_type": ""
    },
    "tags": []
   },
   "source": [
    "### Results\n",
    "\n",
    "\n",
    "All four regressions demonstrate that with the current data available, no statistically significant relationships can be found between the Gini coefficient and the party alignment of Congress and the President. \n",
    "\n",
    "## Coefficient Results\n",
    "\n",
    "**Table 1:** Results for Regression 1\n",
    "\n",
    "| Coefficient Name | Coefficient Value | T-value |\n",
    "| ---------------- | ------------------| ------- | \n",
    "| Intercept        |   0.0021        |  2.755    | \n",
    "| Republican Congress |  -0.0011     |   -0.689  |  \n",
    "\n",
    "**Table 2:** Results for Regression 2\n",
    "\n",
    "| Coefficient Name | Coefficient Value | T-value |\n",
    "| ---------------- | ------------------| ------- | \n",
    "| Intercept        |   0.0020        |  2.165    | \n",
    "| Democratic Congress |  -0.0003     |   -0.244  |  \n",
    "\n",
    "**Table 3:** Results for Regression 3\n",
    "\n",
    "| Coefficient Name | Coefficient Value | T-value |\n",
    "| ---------------- | ------------------| ------- | \n",
    "| Intercept        |   0.0016          |   1.574   | \n",
    "| Political Party of President |  0.0004           |  0.320    |  \n",
    "\n",
    "**Table 4:** Results for Regression 4\n",
    "\n",
    "| Coefficient Name | Coefficient Value | T-value |\n",
    "| ---------------- | ------------------| ------- | \n",
    "| Intercept        |   0.0019          |  2.165  | \n",
    "| Trifecta         |  -0.0001          |   -0.107|  \n",
    "\n",
    "No regression yielded any statistically significant coefficient, therefore we cannot prove the existence of a relationship between any of the tested variables against the Gini coefficient."
   ]
  },
  {
   "cell_type": "markdown",
   "id": "4c615866-5844-488e-a29e-92dc914b1bf1",
   "metadata": {},
   "source": [
    "### Discussion of Results\n",
    "\n",
    "Research regarding the relationship between political parties is limited. While my current results demonstrate that with the data I used, no relationships can be found between political parties and the Gini coefficient, my results do not prove that no relationships exist. Since the current literature regarding my topic remains understudied, it is difficult to provide a comparison. It is possible that this field is understudied simply because political parties play no significant role in affecting overall inequality on the federal level, however more research would be needed. \n",
    "\n",
    "It is important to note that for my fourth regression, I tested for the Gini coefficient under the presence of any trifecta, regardless of political party affiliation. \n",
    "\n",
    "Since my data yieled statistically insignificant results for all four regressions, determining what role the policies I have discussed earlier would be difficult. Rather than determining the relationship between political parties and the Gini coefficient, future research could instead focus on certain sets of policies. "
   ]
  },
  {
   "cell_type": "markdown",
   "id": "b0bbe9a5-1ccd-4222-9c9d-131224a1540e",
   "metadata": {},
   "source": [
    "### Works Cited\n",
    "\n",
    "Autor, David, L. Katz, and Melissa S. Kearney. 2008. “Trends in U.S. Wage Inequality: Revising the Revisionists.” The Review of Economics and Statistics. https://doi.org/10.1162/REST.90.2.300.\n",
    "\n",
    "Berkowitz, Daniel, and George A. Krause. 2020. “How Bureaucratic Leadership Shapes Policy Outcomes: Partisan Politics and Affluent Citizens’ Incomes in the American States.” Journal of Public Policy. https://doi.org/10.1017/S0143814X18000405.\n",
    "\n",
    "Bloch, Farrell E. 1980. “Political Support for Minimum Wage Legislation.” Journal of Labor Research. https://doi.org/10.1007/BF02685100.\n",
    "\n",
    "Chen, Tiejun, Giray Gozgor, and Chun Kwong Koo. 2021. “Pandemics and Income Inequality: What Do the Data Tell for the Globalization Era?” Frontiers in Public Health. https://doi.org/10.3389/FPUBH.2021.674729.\n",
    "\n",
    "Cortes, Guido Matias. 2016. “Where Have the Middle-Wage Workers Gone? A Study of Polarization Using Panel Data.” Journal of Labor Economics. https://doi.org/10.1086/682289.\n",
    "\n",
    "Crawford, C., and Corinne L. Crawford. 2011. “The Inequity In The Current Tax System: Does The Alternative Minimum Tax Create Additional Problems In The System?” https://doi.org/10.19030/JBER.V5I2.2517.\n",
    "\n",
    "Danieli, Oren. 2022. “Revisiting U.S. Wage Inequality at the Bottom 50%.”\n",
    "\n",
    "Engelhardt, Gary V., and Patrick J. Purcell. 2021. “The Minimum Wage and Annual Earnings Inequality.” Economics Letters. https://doi.org/10.1016/J.ECONLET.2021.110001.\n",
    "\n",
    "Giordono, Leanne S., Michael D. Jones, and David W. Rothwell. 2019. “Social Policy Perspectives on Economic Inequality in Wealthy Countries.” Policy Studies Journal: The Journal of the Policy Studies Organization. https://doi.org/10.1111/PSJ.12315.\n",
    "\n",
    "Heathcote, Jonathan, Fabrizio Perri, and Giovanni L. Violante. 2010. “Unequal We Stand: An Empirical Analysis of Economic Inequality in the United States, 1967-2006 *.” Review of Economic Dynamics. https://doi.org/10.1016/J.RED.2009.10.010.\n",
    "\n",
    "———. 2020. “The Rise of US Earnings Inequality: Does the Cycle Drive the Trend?” Review of Economic Dynamics. https://doi.org/10.1016/J.RED.2020.06.002.\n",
    "\n",
    "Juhn, Chinhui, Kevin M. Murphy, and B. Pierce. 1993. “Wage Inequality and the Rise in Returns to Skill.” The Journal of Political Economy. https://doi.org/10.1086/261881.\n",
    "\n",
    "Koger, Gregory, and Stefanie Marie Rodriguez. 2021. “Economic Inequality and Congressional Action in the United States: A Comparison of the Minimum Wage and Alternative Minimum Tax.” Poverty & Public Policy. https://doi.org/10.1002/POP4.319.\n",
    "\n",
    "Krusell, Per, L. Ohanian, José-Víctor Ríos-Rull, and G. Violante. 2000. “Capital-Skill Complementarity and Inequality: A Macroeconomic Analysis.” https://doi.org/10.1111/1468-0262.00150.\n",
    "\n",
    "Piketty, T., and Emmanuel Saez. 2014. “Inequality in the Long Run.” Science. https://doi.org/10.1126/SCIENCE.1251936.\n",
    "\n",
    "Sayed, Adham, and Bin Peng. 2021. “Pandemics and Income Inequality: A Historical Review.” SN Business & Economics. https://doi.org/10.1007/S43546-021-00059-4."
   ]
  },
  {
   "cell_type": "code",
   "execution_count": null,
   "id": "1ceddd52-76ef-4693-8f57-6f7328cb679f",
   "metadata": {},
   "outputs": [],
   "source": []
  }
 ],
 "metadata": {
  "kernelspec": {
   "display_name": "Python 3 (ipykernel)",
   "language": "python",
   "name": "python3"
  },
  "language_info": {
   "codemirror_mode": {
    "name": "ipython",
    "version": 3
   },
   "file_extension": ".py",
   "mimetype": "text/x-python",
   "name": "python",
   "nbconvert_exporter": "python",
   "pygments_lexer": "ipython3",
   "version": "3.10.10"
  }
 },
 "nbformat": 4,
 "nbformat_minor": 5
}
