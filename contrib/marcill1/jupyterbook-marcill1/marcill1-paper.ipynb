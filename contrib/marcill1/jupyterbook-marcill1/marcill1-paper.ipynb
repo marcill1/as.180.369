{
 "cells": [
  {
   "cell_type": "markdown",
   "id": "f8c75dd5-0a52-4352-8d1d-4196b58e89ea",
   "metadata": {},
   "source": [
    "# Inequality and Political Parties\n",
    "## Matt Arcillo"
   ]
  },
  {
   "cell_type": "markdown",
   "id": "a6868cdb-1e3f-46a0-8271-c4133449cd39",
   "metadata": {},
   "source": [
    "### Abstract\n",
    "\n",
    "Inequality in the United States has increased significantly since the 1970s. In the United States, policies regarding income equality has become a partisan issue. Republicans often have strong ties with businesses, which often promotes policies in favor of lower minimum wages. In contrast, Democrats often work with labor unions to help promote policies in favor of increasing the minimum wage. Using the GINI coefficient, which measures the level of inequality within a given country, we can determine how strong of a role parties in Congress and the party of the President play in the increasing wealth inequality of the United States. If a relationship is present, it can help us understand why inequality still continues to rise. We will investigate if either Congress or the Executive Branch, depending on party affiliation, has more of an impact on the Gini index, while also examining whether significant changes in the Gini coefficient are present during a government trifecta, which is when a single party controls both chambers of Congress and the Presidency."
   ]
  },
  {
   "cell_type": "markdown",
   "id": "a62c18d9-43b6-4b9f-a237-f8d3d6de7e73",
   "metadata": {},
   "source": [
    "#### Introduction\n",
    "\n",
    "Inequality in the United States has been a growing issue since 1980. While the United States remains one of the wealthiest nations in the world, the United States has one of the highest levels of inequality among developed nations, and the issue seems to be worsening. Inequality comes with several consequences for a country, and can be damaging economically, socially, and politically. These problems work in tandem, and while it is possible to examine the level of inequality solely through economics metrics, we will also need to examine the contributions the government has made to address inequality, and whether these contributions are positive or negative. Additionally, these economic trends and government policies are both influenced by society, and in return policies passed by the government also influence society. The relationship between society and government often manifested in the form of political parties. We must utilize all three to help us understand how inequality in the United States has reached this height and why it continues to worsen.\n",
    "  \n",
    "The Gini coefficient is a value that measures the level of income distribution and is often used as the standard metric for tracking economic inequality within a country. Gini coefficients range from 0-1; 0 being the lowest score possible, indicating no income inequality, and 1 being the highest possible level of income inequality. Since 1980, the Gini coefficient of the United States has steadily risen from 0.347 to as high as 0.415 in 2019. In contrast, wealthy Western nations, such as most of Europe and Canada, have significantly lower Gini coefficients than the United States. Many often attribute this trend to the partisan nature of addressing income inequality in the United States.\n",
    "  \n",
    "A key drawback to using publicly available Gini coefficients would be the various ways inequality can manifest. Gini coefficients can often be blind to stored wealth or retired individuals. I will be addressing this drawback by using Gini coefficients of similar households, which will remove any major statistical flaws that could skew my findings.\n",
    "  \n",
    "A key example of the United States federal government failing to address inequality would be the federal minimum wage. The minimum wage in the United States has been raised only three times since 1990. However, policies addressing alternative minim tax (AMT) have allowed it to adjust to inflation, which benefits those with higher incomes. No federal policies have been passed to automatically adjust the federal minimum wage to inflation (Koger). However, not all economists agree that increasing the minimum wage helps address inequality. Another policy we can look into would be earned income tax credit (EITC). This system assists low to middle income workers to receive tax refunds. Examining how policies passed that either expand or reduce EITC qualifications can also help explain how the Gini coefficient behaves under different periods.\n",
    "\n",
    "Political parties are manifestations of social sentiments playing a role in our government. In general, Democratic members of Congress tend to vote in favour of policies supporting an increase in minimum wage (Bloch). It would then be reasonable to believe that during a Democratic government trifecta, where a single party controls The House of Representatives, the Senate, and the Presidency, more policies addressing inequality would be passed, since it would be less likely for laws to be vetoed by either Congress or the President. However, in spite this widely-held belief, inequality only continues to worsen in the United States even though there have been several instances where Democrats held control over the major federal government institutions. \n",
    "\n",
    "We expect the Gini coefficient to increase rapidly during periods of a Republican trifecta, and it is expected for the opposite outcome to occur during a Democratic trifecta. We will then examine if any policies during these periods addressing inequality, such as policies aimed towards increasing minimum wage or modifying the AMT system, were passed or blocked to help explain for any trends we discover. One point of interest is the decade of the 1980 to 1990, which is when the Gini coefficient first began to steadily rise. Studying this period could help us understand how and why inequality began to rise, and if political parties play as a major factor. Since 1980, there have been five instances of a government trifecta, three of which were led by Democrats and two by Republicans. During these periods of government trifecta, we will explore whether the Gini coefficient of the United States changed significantly and in which direction this change occurred. During most of the 1980s, Democrats generally had more control over Congress. However, during this period, President Reagan also held office. Lastly, another period of interest to examine is the COVID-19 pandemic. During the pandemic, many countries reported increasing income inequality. We will examine this period to determine how significantly the Gini coefficient of the United States changed, and whether the partisanship of Congress and the Presidency played a major role in the policies passed during this period. These results could help us better understand how policy has influenced inequality in the United States, and hopefully allow us to reverse the trend of growing inequality in the United States that shows no signs of slowing down."
   ]
  },
  {
   "cell_type": "markdown",
   "id": "48c84196-1999-4187-bf9e-d0be463b9707",
   "metadata": {
    "editable": true,
    "slideshow": {
     "slide_type": ""
    },
    "tags": []
   },
   "source": [
    "### Literature Review\n",
    "\n",
    "- Gini coefficient\n",
    "- History of inequality\n",
    "- \"Fluctuations in the real minimum wage are not a plausible explanation for these trends since the bulk of inequality growth occurs above the median of the wage distribution.\" Autor 2008\n",
    "\n",
    "Where the research stands, the relationship between political parties and inequality is generally understudied. However, inequality is a thoroughly researched topic, therefore there is plenty of research linking inequality to development trends and certain policies. One recent paper, however, has found that during unified Republican state governments, income gains amongst the more affluent citizens, and the opposite trend is observed during Democratic state governments {cite:p}`bureaucratic_berkowitz_2020`. This study will be a strong basis of my study, however rather than studying the state-level effects on income for the affluent, I will study the effects of overall inequality caused by the party control of the Federal government. However, doing so may yield less significant results, since so many players and factors are at play on the federal level. \n",
    "\n",
    "Many economics scholars argue that the rise in inequality is a consequence of slowed economic growth during the late 20th century. In addition, as technology continues to improve, certain routine skills become less valuable. As technology reduces the demand for skills, often in routine labour, employers will often hire low-wage workers, which increases inequality in the bottom 50% of earners (Danieli 2022). In the 1990s, wages have generally been increasing for high-skilled earners and decreasing for low-skilled earners (Juhn 1993). Low-skilled workeres are often replaced by new technology (Krussell 2020). The replacement of labor by capital continues today, and is generally agreed on to be one of the continuing drivers inequality. However, most of the developed world do not suffer from the same level of inequality that exists in the United States. Therefore, it is important to study other factors and actors in play in the United States. \n",
    "\n",
    "One policy tool that often comes to mind when thinking about inequality is the minimum wage. Economists often disagree if whether increasing the minimum wage contributes to higher or lower inequality. However, recent studies (Engelhardt 2021, Autor 2016) have found that increasing minimum wage does reduce inequality in the bottom quartile and decile of earners, however it can increase overall inequality (Engelhard 2021). \n",
    "\n",
    "Another policy tool would be earned income tax credit (EITC). This is a policy tool has been designed to help relieve low to middle income earners by allowing them to earn tax refunds, if eligable. Alternative Minim Tax (AMT) is another example of a policy that has been blamed for worsening inequality for the middle class (Crawford 2007). AMT differs from EITC in which it is meant to prevent wealthy individuals and corporations from using tax deductions to avoid paying taxes. While these tools are used to remedy inequality, they can often worsen inequality if improperly implemented.\n",
    "\n",
    "It is important to note that a large set of data used to explore the history of inequality had a focus on men. This is another important thing to consider, which is why I will use household data instead to account for such differences. \n",
    "\n",
    "Inequality can be studied through a variety of approaches. Many studies often overlook overall inequality and instead study equality within quartiles. A large body of literature exists attempting to explain the existence of inequality among low to middle class people. This could be because there is more interest in studying how income inequality affects low to middle class people, since the vast majority of people belong to these groups (Giordano 2019). Another thing to \n",
    "\n",
    "One last thing to consider when studying inequality would be factors outside of the control of the federal government. The COVID-19 Pandemic was economically disruptive (Sayed 2021, Chen 2021). It is important to note this event, especially if any considerable changes to inequality are observed during and after the pandemic. However, these events cannot be ignored, since lawmakers still often pass policies that can help reduce the impacts of these events, or pass policies that worsen them. Recessions, for example, often worsen inequality, especially for low-income people (Heathcote 2020). \n",
    "\n",
    "The current standing research focusing on inequality is currently divided. MaSome research focus on the impact of policy, while other research focus on broader macroeconomic trends. The gap I am choosing to address would be if political parties play a significant role in affecting inequality. Politicians are oftentimes not economists, and the policy decisions they make can often have adverse effects on the economy, intentional or not. Understanding the role of political parties as actors can help us better understand why inequality in the United States is significantly higher than other developed nations and why, despite policy efforts, it continues to rise. \n",
    "\n",
    "- aggregate wealth in top brackets\n",
    "- middle class vs lower middle class\n",
    "- less between middle class and lower middle class\n",
    "- focus on which measure, or focus\n",
    "- quartiles, and deciles"
   ]
  },
  {
   "cell_type": "markdown",
   "id": "1715328d-6ccd-4a71-82ee-3e23197c0dbd",
   "metadata": {},
   "source": [
    "### Methodology"
   ]
  },
  {
   "cell_type": "markdown",
   "id": "a613c6a1-7ff2-44ff-9184-dc3664d454c2",
   "metadata": {},
   "source": [
    "I will be collecting data from the US census bureau. I will be using Gini coefficients using equivalence adjusted incomes to help account for differences between households.\n",
    "\n",
    "The next step is to calculate the annual change in Gini. The net change in annual Gini will be used to calculate four binary regressions.\n",
    "\n",
    "I will run 4 regressions:\n",
    "1. Relationship between annual Gini coefficient changes and presence of Republican Party unity in Congress.\n",
    "2. Relationship between annual Gini coefficient changes and presence of Democratic Party unity in Congress.\n",
    "3. Relationship between annual Gini coefficient changes and the political party of the President.\n",
    "4. Relationship between annual Gini coefficient and presence of trifectas.\n",
    "\n",
    "The first three regressions will be a simple binary regressions. The last regression will measure how the presence of a government trifecta, and the party in power, affects the annual change in the Gini coefficient. \n",
    "\n",
    "- interaction variable\n",
    "- GOP trifecta, 0, 1 when they do"
   ]
  },
  {
   "cell_type": "markdown",
   "id": "1c3dfe58-30e4-4a65-b857-1cddcc46b835",
   "metadata": {
    "editable": true,
    "slideshow": {
     "slide_type": ""
    },
    "tags": []
   },
   "source": [
    "### Results\n",
    "\n",
    "- Results regarding president\n",
    "- Results regarding\n",
    "\n",
    "All four regressions demonstrate that with the current data available, no statistically significant relationships can be found between the Gini coefficient and the party alignment of Congress and the President. In the order of the regressions ran, the t-scores are as follows: .\n",
    "\n",
    "The current data demonstrates that there is no statistically significant relationship between the party of the president in power and the Gini coefficient. The binary regression results yielded show that with the data used, we cannot conclude whether the party of the president have an impact on the increase of the Gini coefficient. \n",
    "\n",
    "- Results for Senate, House\n",
    "- Results for Trifecta\n",
    "\n",
    "- "
   ]
  },
  {
   "cell_type": "markdown",
   "id": "4c615866-5844-488e-a29e-92dc914b1bf1",
   "metadata": {},
   "source": [
    "### Discussion\n",
    "\n",
    "While my analysis is unable to conclude whether political parties on the federal level have an impact on overall inequality in the United States"
   ]
  }
 ],
 "metadata": {
  "kernelspec": {
   "display_name": "Python 3 (ipykernel)",
   "language": "python",
   "name": "python3"
  },
  "language_info": {
   "codemirror_mode": {
    "name": "ipython",
    "version": 3
   },
   "file_extension": ".py",
   "mimetype": "text/x-python",
   "name": "python",
   "nbconvert_exporter": "python",
   "pygments_lexer": "ipython3",
   "version": "3.10.10"
  }
 },
 "nbformat": 4,
 "nbformat_minor": 5
}
